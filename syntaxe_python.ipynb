{
 "cells": [
  {
   "cell_type": "markdown",
   "metadata": {},
   "source": [
    "# Syntaxe de base de Python\n",
    "## Commentaires en Python\n",
    "Les commentaires servent généralement à documenter le code : ils vont être ignorés lors de l’exécution du code et vont donc être totalement transparents pour l’utilisateur final. En Python, on utilise le signe ```#``` pour écrire un commentaire dans notre code."
   ]
  },
  {
   "cell_type": "code",
   "execution_count": 190,
   "metadata": {},
   "outputs": [
    {
     "name": "stdout",
     "output_type": "stream",
     "text": [
      "Hello World\n"
     ]
    }
   ],
   "source": [
    "# this function will return Hello World\n",
    "print(\"Hello World\")"
   ]
  },
  {
   "cell_type": "markdown",
   "metadata": {},
   "source": [
    "\n",
    "Puisque Python ignore les chaînes de caractères littérales qui ne sont pas affectées à une variable, vous pouvez ajouter une chaîne de caractères multiligne (guillemets triples) dans votre code, et y placer votre commentaire."
   ]
  },
  {
   "cell_type": "code",
   "execution_count": 191,
   "metadata": {},
   "outputs": [
    {
     "name": "stdout",
     "output_type": "stream",
     "text": [
      "Hello World again\n"
     ]
    }
   ],
   "source": [
    "\"\"\"\n",
    "this is a comment on\n",
    "multiple lines.\n",
    "Here we show just a message\n",
    "using print() function\n",
    "\"\"\"\n",
    "print(\"Hello World again\")"
   ]
  },
  {
   "cell_type": "markdown",
   "metadata": {},
   "source": [
    "\n",
    "## L’indentation en Python\n",
    "Dans la grande majorité des langages, l’indentation n’a qu’une visée esthétique : elle permet à un script d’être plus lisible pour un développeur.\n",
    "En Python est utilisée pour définir des blocs de code, c’est-à-dire pour indiquer à l’interpréteur quelle instruction appartient à quelle autre. Dès qu’il y a une relation de dépendance, il faudra ajouter une tabulation. Si on indente mal notre code Python, celui-ci ne s’exécutera tout simplement pas et Python renverra une erreur."
   ]
  },
  {
   "cell_type": "code",
   "execution_count": 224,
   "metadata": {},
   "outputs": [
    {
     "name": "stdout",
     "output_type": "stream",
     "text": [
      "x equals 2\n",
      "0\n",
      "1\n",
      "2\n",
      "3\n"
     ]
    }
   ],
   "source": [
    "x = 2\n",
    "if x==2:\n",
    "    print(\"x equals 2\")\n",
    "elif x==3:\n",
    "    print(\"x equals 3\")\n",
    "else:\n",
    "    print(\"autre chose\")\n",
    "for i in range(4):\n",
    "    print(i)"
   ]
  },
  {
   "cell_type": "code",
   "execution_count": 223,
   "metadata": {},
   "outputs": [
    {
     "ename": "IndentationError",
     "evalue": "expected an indented block (<ipython-input-223-06cd5c847251>, line 3)",
     "output_type": "error",
     "traceback": [
      "\u001b[0;36m  File \u001b[0;32m\"<ipython-input-223-06cd5c847251>\"\u001b[0;36m, line \u001b[0;32m3\u001b[0m\n\u001b[0;31m    print(\"x equals 2\")\u001b[0m\n\u001b[0m    ^\u001b[0m\n\u001b[0;31mIndentationError\u001b[0m\u001b[0;31m:\u001b[0m expected an indented block\n"
     ]
    }
   ],
   "source": [
    "x = 2\n",
    "if x == 2:\n",
    "print(\"x equals 2\")"
   ]
  },
  {
   "cell_type": "markdown",
   "metadata": {},
   "source": [
    "## Identificateurs\n",
    "Python utilise des identificateurs pour nommer ses objets y parmis les variables, fonctions, class ... mais il faut respecter les règles usuelles suivantes pour le choix des identificateurs:\n",
    "\n",
    "- L'identificateurs doit commencer par une lettre ou par un underscore.\n",
    "- L'identificateurs ne doit contenir que des caractères alphanumériques courants (pas d’espace dans l'identificateurs ni de caractères spéciaux comme des caractères accentués ou tout autre signe).\n",
    "- On ne peut pas utiliser certains mots qui possèdent déjà une signification spéciale pour le langage (on parle de mots “réservés”).\n",
    "\n",
    "<table>\n",
    "<thead>\n",
    "<tr>\n",
    "<th>Mots réservés en Python</th>\n",
    "<th>&nbsp;</th>\n",
    "<th>&nbsp;</th>\n",
    "<th>&nbsp;</th>\n",
    "</tr>\n",
    "</thead>\n",
    "<tbody>\n",
    "<tr>\n",
    "<td><code>False</code></td>\n",
    "<td><code>def</code></td>\n",
    "<td><code>if</code></td>\n",
    "<td><code>raise</code></td>\n",
    "</tr>\n",
    "<tr>\n",
    "<td><code>None</code></td>\n",
    "<td><code>del</code></td>\n",
    "<td><code>import</code></td>\n",
    "<td><code>return</code></td>\n",
    "</tr>\n",
    "<tr>\n",
    "<td><code>True</code></td>\n",
    "<td><code>elif</code></td>\n",
    "<td><code>in</code></td>\n",
    "<td><code>try</code></td>\n",
    "</tr>\n",
    "<tr>\n",
    "<td><code>and</code></td>\n",
    "<td><code>else</code></td>\n",
    "<td><code>is</code></td>\n",
    "<td><code>while</code></td>\n",
    "</tr>\n",
    "<tr>\n",
    "<td><code>as</code></td>\n",
    "<td><code>except</code></td>\n",
    "<td><code>lambda</code></td>\n",
    "<td><code>with</code></td>\n",
    "</tr>\n",
    "<tr>\n",
    "<td><code>assert</code></td>\n",
    "<td><code>finally</code></td>\n",
    "<td><code>nonlocal</code></td>\n",
    "<td><code>yield</code></td>\n",
    "</tr>\n",
    "<tr>\n",
    "<td><code>break</code></td>\n",
    "<td><code>for</code></td>\n",
    "<td><code>not</code></td>\n",
    "<td></td>\n",
    "</tr>\n",
    "<tr>\n",
    "<td><code>class</code></td>\n",
    "<td><code>from</code></td>\n",
    "<td><code>or</code></td>\n",
    "<td></td>\n",
    "</tr>\n",
    "<tr>\n",
    "<td><code>continue</code></td>\n",
    "<td><code>global</code></td>\n",
    "<td><code>pass</code></td>\n",
    "<td></td>\n",
    "</tr>\n",
    "</tbody>\n",
    "</table>\n"
   ]
  },
  {
   "cell_type": "code",
   "execution_count": 4,
   "metadata": {},
   "outputs": [
    {
     "ename": "SyntaxError",
     "evalue": "invalid syntax (<ipython-input-4-dcb1ccafc56c>, line 5)",
     "output_type": "error",
     "traceback": [
      "\u001b[0;36m  File \u001b[0;32m\"<ipython-input-4-dcb1ccafc56c>\"\u001b[0;36m, line \u001b[0;32m5\u001b[0m\n\u001b[0;31m    global = montant_ht + montant_tva\u001b[0m\n\u001b[0m           ^\u001b[0m\n\u001b[0;31mSyntaxError\u001b[0m\u001b[0;31m:\u001b[0m invalid syntax\n"
     ]
    }
   ],
   "source": [
    "# Prenons le paiement d'une facture online\n",
    "montant_ht = 132.50\n",
    "taux_tva = 0.14\n",
    "montant_tva = montant_ht * taux_tva\n",
    "global = montant_ht + montant_tva\n"
   ]
  },
  {
   "cell_type": "markdown",
   "metadata": {},
   "source": [
    "Prenez l'habitude de lire attentivement les messages d'erreur. Ce message d'erreur indique que l'instruction *global = montant_ht + montant_tva* a une syntaxe non valide, et c'est tout à fait correct.\n",
    "\n",
    "Vous n'avez pas besoin de mémoriser cette liste. Dans la plupart des environnements de développement (comme VS Code), les mots-clés sont affichés dans une couleur différente (vous avez remarqué que *global* était en bleu), si vous essayez d'en utiliser un comme nom de variable, vous le saurez.\n",
    "\n",
    "Donc reprenons notre exemple :"
   ]
  },
  {
   "cell_type": "code",
   "execution_count": 5,
   "metadata": {
    "collapsed": true
   },
   "outputs": [],
   "source": [
    "# Utilisons cette fois le nom \"montant_ttc\"\n",
    "montant_ht = 132.50\n",
    "taux_tva = 0.14\n",
    "montant_tva = montant_ht * taux_tva\n",
    "montant_ttc = montant_ht + montant_tva"
   ]
  },
  {
   "cell_type": "code",
   "execution_count": 6,
   "metadata": {
    "collapsed": true
   },
   "outputs": [
    {
     "name": "stdout",
     "output_type": "stream",
     "text": [
      "151.05\n"
     ]
    }
   ],
   "source": [
    "# Afficher la somme d'argent à payer (\"montant_TTC\") en dirhams\n",
    "print(montant_ttc)"
   ]
  },
  {
   "cell_type": "markdown",
   "metadata": {},
   "source": [
    "\n",
    "Notez que les identificateurs en Python sont sensibles à la casse, ce qui signifie qu’on va faire une différence entre l’emploi de majuscules et de minuscules : un même identificateur écrit en majuscules ou en minuscules créera deux éléments totalement différentes.\n",
    "\n",
    "Il est important d’utiliser une politique cohérente de nommage des identificateurs. Voici un style de nommage utilisé:\n",
    "\n",
    "- nom_de_ma_variable pour les variables.\n",
    "\n",
    "- NOM_DE_MA_CONSTANTE pour les constantes.\n",
    "\n",
    "- maFonction, maMethode pour les fonctions et les méthodes.\n",
    "\n",
    "- MaClasse pour les classes.\n",
    "\n",
    "- UneExceptionError pour les exceptions.\n",
    "\n",
    "- nom_de_module pour les modules et pour tous les autres identificateurs."
   ]
  },
  {
   "cell_type": "markdown",
   "metadata": {},
   "source": [
    "## Variables\n",
    "Une variable est une zone de la mémoire de l'ordinateur dans laquelle une valeur est stockée. Pour créer une variable en Python, on va donc devoir choisir un identificateur et affecter une valeur à cet identificateur, c’est-à-dire stocker une valeur dans notre variable."
   ]
  },
  {
   "cell_type": "code",
   "execution_count": 7,
   "metadata": {},
   "outputs": [
    {
     "name": "stdout",
     "output_type": "stream",
     "text": [
      "2 3 4\n"
     ]
    }
   ],
   "source": [
    "var_1 = 2\n",
    "var_2 = 3\n",
    "# ou bien\n",
    "var_1, var_2 = 2, 3\n",
    "print(var_1, var_2, 4)"
   ]
  },
  {
   "cell_type": "markdown",
   "metadata": {},
   "source": [
    "## Exercice\n",
    "- Saisir un nom et un âge en utilisant l’instruction ```input()```. Les afficher.\n",
    "- Saisir une valeur en utilisant l’instruction ```input()```, et afficher est ce qu'elle est paire ou impaire.\n"
   ]
  },
  {
   "cell_type": "code",
   "execution_count": 8,
   "metadata": {},
   "outputs": [
    {
     "name": "stdout",
     "output_type": "stream",
     "text": [
      "2\n"
     ]
    }
   ],
   "source": [
    "x = input(\"Entrez une valeur\")\n",
    "print(x)"
   ]
  },
  {
   "cell_type": "code",
   "execution_count": null,
   "metadata": {},
   "outputs": [],
   "source": [
    "x = 3\n",
    "if x%2 == 0:\n",
    "    print(\"valeur paire\")\n",
    "else:\n",
    "    print(\"valeur impaire\")"
   ]
  },
  {
   "cell_type": "markdown",
   "metadata": {},
   "source": [
    "## Correction"
   ]
  },
  {
   "cell_type": "code",
   "execution_count": 200,
   "metadata": {},
   "outputs": [
    {
     "name": "stdout",
     "output_type": "stream",
     "text": [
      "votre nom est nom Hamza votre age est 25\n"
     ]
    }
   ],
   "source": [
    "nom = input(\"Entrez votre nom\")\n",
    "age = input(\"Entrez votre age\")\n",
    "print(\"votre nom est nom \"+nom+\" votre age est \"+age)"
   ]
  },
  {
   "cell_type": "code",
   "execution_count": 187,
   "metadata": {},
   "outputs": [
    {
     "name": "stdout",
     "output_type": "stream",
     "text": [
      "valeur paire\n"
     ]
    }
   ],
   "source": [
    "valeur = int(input(\"Entrez une valeur\"))\n",
    "if valeur%2 == 0:\n",
    "    print(\"valeur paire\")\n",
    "else:\n",
    "    print(\"valeur impaire\")"
   ]
  },
  {
   "cell_type": "markdown",
   "metadata": {},
   "source": [
    "## Type de données :\n",
    "Python définit de nombreux types de données qu’on va pouvoir stocker dans nos variables et manipuler ensuite : nombres entiers, décimaux, complexes, chaines de caractères, booléens, listes, tuples, dictionnaires ...\n",
    "\n",
    "Dans ce cours, nous allons apprendre les principaux types de données en Python et comment les utiliser.\n",
    "\n",
    "Nous allons voir :\n",
    "\n",
    "    1. Les nombres\n",
    "    2. Les chaînes de caractèrres\n",
    "    3. Les listes\n",
    "    4. Les tuples\n",
    "    5. Les dictionnaires\n",
    "    6. Les ensembles et les booléens\n",
    "    7. None\n",
    "    8. Et finalement la conversion de type\n",
    "\n",
    "### Nombres\n",
    "#### Types des nombres\n",
    "\n",
    "Python a différents types de nombres. Nous nous concentrerons principalement sur les **nombres entiers (integers)** et les **nombres flottants (floats)**.\n",
    "\n",
    "Les nombres entiers sont simplement les nombres sans point décimal, que ça soit positifs ou bien négatifs. Par exemple : 2 et -1 sont des exemples d'entiers."
   ]
  },
  {
   "cell_type": "code",
   "execution_count": 11,
   "metadata": {},
   "outputs": [
    {
     "name": "stdout",
     "output_type": "stream",
     "text": [
      "2022\n",
      "2022\n",
      "2022\n",
      "2022\n"
     ]
    }
   ],
   "source": [
    "print(2022)  # décimal (base 10)\n",
    "print(0b11111100110)  # binaire (base 2)\n",
    "print(0o3746)  # octal (base 8)\n",
    "print(0x7E6)  # hexadecimal (base 16)"
   ]
  },
  {
   "cell_type": "markdown",
   "metadata": {},
   "source": [
    "\n",
    "Les nombres flottants (à virgule flottante) en Python sont notables parce qu'ils ont un point décimal en eux, ou utilisent un exponentiel (e) pour définir le nombre. Par exemple 2.0 et -3.14 sont des exemples de nombres flottants. 4E2 (ou bien 4e2, égale à 4 fois 10 à la puissance de 2) est aussi un nombre flottant en Python."
   ]
  },
  {
   "cell_type": "code",
   "execution_count": 12,
   "metadata": {},
   "outputs": [
    {
     "name": "stdout",
     "output_type": "stream",
     "text": [
      "20.0\n",
      "20.0\n",
      "-3.14\n"
     ]
    }
   ],
   "source": [
    "print(20.0)\n",
    "print(2e1)\n",
    "print(-314e-2)"
   ]
  },
  {
   "cell_type": "markdown",
   "metadata": {},
   "source": [
    "Commençons maintenant avec un peu d'arithmétique de base :\n",
    "\n",
    "#### Arithmétique de base"
   ]
  },
  {
   "cell_type": "code",
   "execution_count": 13,
   "metadata": {},
   "outputs": [
    {
     "name": "stdout",
     "output_type": "stream",
     "text": [
      "3\n"
     ]
    }
   ],
   "source": [
    "# Addition\n",
    "print(2+1)"
   ]
  },
  {
   "cell_type": "code",
   "execution_count": 14,
   "metadata": {},
   "outputs": [
    {
     "name": "stdout",
     "output_type": "stream",
     "text": [
      "1\n"
     ]
    }
   ],
   "source": [
    "# Soustraction\n",
    "print(2-1)"
   ]
  },
  {
   "cell_type": "code",
   "execution_count": 15,
   "metadata": {},
   "outputs": [
    {
     "name": "stdout",
     "output_type": "stream",
     "text": [
      "4\n"
     ]
    }
   ],
   "source": [
    "# Multiplication\n",
    "print(2*2)"
   ]
  },
  {
   "cell_type": "code",
   "execution_count": 16,
   "metadata": {},
   "outputs": [
    {
     "name": "stdout",
     "output_type": "stream",
     "text": [
      "0.5\n"
     ]
    }
   ],
   "source": [
    "# Division décimale\n",
    "print(1/2)"
   ]
  },
  {
   "cell_type": "code",
   "execution_count": 17,
   "metadata": {},
   "outputs": [
    {
     "name": "stdout",
     "output_type": "stream",
     "text": [
      "0\n"
     ]
    }
   ],
   "source": [
    "# Division entière\n",
    "print(1//2)"
   ]
  },
  {
   "cell_type": "code",
   "execution_count": 18,
   "metadata": {},
   "outputs": [
    {
     "name": "stdout",
     "output_type": "stream",
     "text": [
      "1\n"
     ]
    }
   ],
   "source": [
    "# Reste de la division entière\n",
    "print(1%2)"
   ]
  },
  {
   "cell_type": "code",
   "execution_count": 19,
   "metadata": {},
   "outputs": [
    {
     "name": "stdout",
     "output_type": "stream",
     "text": [
      "8\n"
     ]
    }
   ],
   "source": [
    "# Puissance\n",
    "print(2**3)"
   ]
  },
  {
   "cell_type": "code",
   "execution_count": 20,
   "metadata": {},
   "outputs": [
    {
     "name": "stdout",
     "output_type": "stream",
     "text": [
      "2.0\n"
     ]
    }
   ],
   "source": [
    "# Faire la racine de la même façons\n",
    "print(8**(1/3)) # 1/3 est le racine cubique"
   ]
  },
  {
   "cell_type": "markdown",
   "metadata": {
    "collapsed": true
   },
   "source": [
    "### Chaîne de caractères\n",
    "Les chaînes de caractères sont utilisées en Python pour enregistrer des informations textuelles, comme les noms. Les chaînes de caractères en Python sont en fait des **séquence**, ce qui signifie que nous pourrons utiliser l'**indexation** pour récupérer des lettres particulières (par exemple la première lettre) à partir d'une chaîne de caractères.\n",
    "\n",
    "Cette idée d'une **séquence** est importante en Python et nous y reviendrons plus tard.\n",
    "\n",
    "#### Création d'une chaîne de caractères\n",
    "\n",
    "Pour créer une chaîne de caractères en Python, vous devez utiliser des **guillemets simples** (' ') ou des **guillemets doubles** (\" \"). Par exemple :"
   ]
  },
  {
   "cell_type": "code",
   "execution_count": 21,
   "metadata": {
    "collapsed": true
   },
   "outputs": [
    {
     "data": {
      "text/plain": [
       "'Bonjour tout le monde'"
      ]
     },
     "execution_count": 21,
     "metadata": {},
     "output_type": "execute_result"
    }
   ],
   "source": [
    "# Une chaîne de caractères \n",
    "'Bonjour tout le monde'"
   ]
  },
  {
   "cell_type": "code",
   "execution_count": 22,
   "metadata": {
    "collapsed": true
   },
   "outputs": [
    {
     "data": {
      "text/plain": [
       "'Bonjour tout le monde'"
      ]
     },
     "execution_count": 22,
     "metadata": {},
     "output_type": "execute_result"
    }
   ],
   "source": [
    "# Ou bien\n",
    "\"Bonjour tout le monde\""
   ]
  },
  {
   "cell_type": "code",
   "execution_count": 23,
   "metadata": {
    "collapsed": true
   },
   "outputs": [
    {
     "ename": "SyntaxError",
     "evalue": "invalid syntax (<ipython-input-23-633d1909c85c>, line 2)",
     "output_type": "error",
     "traceback": [
      "\u001b[0;36m  File \u001b[0;32m\"<ipython-input-23-633d1909c85c>\"\u001b[0;36m, line \u001b[0;32m2\u001b[0m\n\u001b[0;31m    'c'est une chaîne de caractères malle défini'\u001b[0m\n\u001b[0m       ^\u001b[0m\n\u001b[0;31mSyntaxError\u001b[0m\u001b[0;31m:\u001b[0m invalid syntax\n"
     ]
    }
   ],
   "source": [
    "# Faites attention aux guillemets!\n",
    "'c'est une chaîne de caractères malle défini'"
   ]
  },
  {
   "cell_type": "markdown",
   "metadata": {},
   "source": [
    "La raison de l'erreur ci-dessus est que le deuxième simple guillemet (l'apostrophe de *c'est*) ce compte comme la fin de notre chaîne de caractères.\n",
    "\n",
    "Vous pouvez utiliser une des solutions suivantes :\n",
    "- Utiliser des combinaisons de guillemets simples et doubles :"
   ]
  },
  {
   "cell_type": "code",
   "execution_count": 24,
   "metadata": {
    "collapsed": true
   },
   "outputs": [
    {
     "data": {
      "text/plain": [
       "\"c'est une chaîne de caractères bien défini\""
      ]
     },
     "execution_count": 24,
     "metadata": {},
     "output_type": "execute_result"
    }
   ],
   "source": [
    "# Une chaîne de caractères correcte\n",
    "\"c'est une chaîne de caractères bien défini\""
   ]
  },
  {
   "cell_type": "code",
   "execution_count": 25,
   "metadata": {},
   "outputs": [
    {
     "data": {
      "text/plain": [
       "\"La langue 'Python' est nommée d'après Monty Python, et non pas d'après le serpent\""
      ]
     },
     "execution_count": 25,
     "metadata": {},
     "output_type": "execute_result"
    }
   ],
   "source": [
    "\"La langue 'Python' est nommée d'après Monty Python, et non pas d'après le serpent\""
   ]
  },
  {
   "cell_type": "markdown",
   "metadata": {},
   "source": [
    "- Utiliser les symbole **\\'** et **\\\"** avec n'import quel type de guillemets :"
   ]
  },
  {
   "cell_type": "code",
   "execution_count": 26,
   "metadata": {
    "collapsed": true
   },
   "outputs": [
    {
     "data": {
      "text/plain": [
       "\"c'est une chaîne de caractères bien défini\""
      ]
     },
     "execution_count": 26,
     "metadata": {},
     "output_type": "execute_result"
    }
   ],
   "source": [
    "# Une chaîne de caractères correcte\n",
    "'c\\'est une chaîne de caractères bien défini'"
   ]
  },
  {
   "cell_type": "code",
   "execution_count": 27,
   "metadata": {
    "collapsed": true
   },
   "outputs": [
    {
     "data": {
      "text/plain": [
       "'une \"deuxième\" chaîne de caractères bien défini'"
      ]
     },
     "execution_count": 27,
     "metadata": {},
     "output_type": "execute_result"
    }
   ],
   "source": [
    "# Une deuxième chaîne de caractères correcte\n",
    "'une \\\"deuxième\\\" chaîne de caractères bien défini'"
   ]
  },
  {
   "cell_type": "markdown",
   "metadata": {},
   "source": [
    "#### Affichage d'une chaîne de caractères"
   ]
  },
  {
   "cell_type": "code",
   "execution_count": 28,
   "metadata": {
    "collapsed": true
   },
   "outputs": [
    {
     "name": "stdout",
     "output_type": "stream",
     "text": [
      "Bonjour tout le monde 1\n",
      "Bonjour tout le monde 2\n",
      "Utilisez \n",
      " pour afficher une nouvelle ligne\n",
      "\n",
      "\n",
      "Utilisez \t pour afficher une tabulation: 1 \t 2 \t 3 \n"
     ]
    }
   ],
   "source": [
    "print(\"Bonjour tout le monde 1\")\n",
    "print(\"Bonjour tout le monde 2\")\n",
    "print(\"Utilisez \\n pour afficher une nouvelle ligne\")\n",
    "print('\\n')\n",
    "print('Utilisez \\t pour afficher une tabulation: 1 \\t 2 \\t 3 ')"
   ]
  },
  {
   "cell_type": "markdown",
   "metadata": {},
   "source": [
    "Si vous ne voulez pas que les caractères préfacés par **\\\\** soient interprétés comme des caractères spéciaux, vous pouvez utiliser des chaînes de caractères brutes (**raw strings**) en ajoutant un **r** avant le premier guillemet, prenons le même code ci-dessus :"
   ]
  },
  {
   "cell_type": "code",
   "execution_count": 29,
   "metadata": {
    "collapsed": true
   },
   "outputs": [
    {
     "name": "stdout",
     "output_type": "stream",
     "text": [
      "Bonjour tout le monde 1\n",
      "Bonjour tout le monde 2\n",
      "Utilisez \\n pour afficher une nouvelle ligne\n",
      "\\n\n",
      "Utilisez \\t pour afficher une tabulation: 1 \\t 2 \\t 3 \n"
     ]
    }
   ],
   "source": [
    "print(\"Bonjour tout le monde 1\")\n",
    "print(\"Bonjour tout le monde 2\")\n",
    "print(r\"Utilisez \\n pour afficher une nouvelle ligne\")\n",
    "print(r'\\n')\n",
    "print(r'Utilisez \\t pour afficher une tabulation: 1 \\t 2 \\t 3 ')"
   ]
  },
  {
   "cell_type": "markdown",
   "metadata": {},
   "source": [
    "Les chaînes de caractères littérales (**string literals**) peuvent s'étendre sur plusieurs lignes, cela ce fait de deux façons :\n",
    "- La première consiste à utiliser des guillemets triples (\" \" \"...\" \" \" ou ' ' '...' ' ').\n",
    "- La deuxième est en ajoutant un **\\\\** à la fin de la ligne.\n",
    "\n",
    "Par exemple :"
   ]
  },
  {
   "cell_type": "code",
   "execution_count": 30,
   "metadata": {
    "collapsed": true
   },
   "outputs": [
    {
     "name": "stdout",
     "output_type": "stream",
     "text": [
      "py\n",
      "thon est:\n",
      "\t \t simple\n",
      "\n"
     ]
    }
   ],
   "source": [
    "print('''py\n",
    "thon est:\n",
    "\\t \\t simple\n",
    "''')"
   ]
  },
  {
   "cell_type": "code",
   "execution_count": 31,
   "metadata": {
    "collapsed": true
   },
   "outputs": [
    {
     "name": "stdout",
     "output_type": "stream",
     "text": [
      "python est:\t \t simple\n"
     ]
    }
   ],
   "source": [
    "print(\"py\\\n",
    "thon est:\\\n",
    "\\t \\t simple\\\n",
    "\")"
   ]
  },
  {
   "cell_type": "markdown",
   "metadata": {},
   "source": [
    "Notez que les triples guillemets affichent le retour à la ligne où il existe, alors que l'ajout de **\\\\** ne le prix pas en considération à la sortie."
   ]
  },
  {
   "cell_type": "markdown",
   "metadata": {},
   "source": [
    "#### Indexation des chaînes de caractères\n",
    "Nous savons que les chaînes de caractères sont des **séquences**, ce qui signifie que Python peut utiliser des indices pour appeler des parties de la séquence.\n",
    "\n",
    "En Python, nous utilisons des parenthèses **[]** après un objet pour appeler son indice. Notons également que l'**indexation** commence à 0 pour Python.\n",
    "\n",
    "Créons un nouvel objet appelé:"
   ]
  },
  {
   "cell_type": "code",
   "execution_count": 32,
   "metadata": {
    "collapsed": true
   },
   "outputs": [],
   "source": [
    "# Assigner \"s\" comme chaîne de caractères\n",
    "s = 'Python3.10'"
   ]
  },
  {
   "cell_type": "code",
   "execution_count": 33,
   "metadata": {
    "collapsed": true
   },
   "outputs": [
    {
     "data": {
      "text/plain": [
       "'Python3.10'"
      ]
     },
     "execution_count": 33,
     "metadata": {},
     "output_type": "execute_result"
    }
   ],
   "source": [
    "# Vérifier\n",
    "s"
   ]
  },
  {
   "cell_type": "code",
   "execution_count": 34,
   "metadata": {
    "collapsed": true
   },
   "outputs": [
    {
     "name": "stdout",
     "output_type": "stream",
     "text": [
      "Python3.10\n"
     ]
    }
   ],
   "source": [
    "# Afficher \"s\"\n",
    "print(s) "
   ]
  },
  {
   "cell_type": "markdown",
   "metadata": {},
   "source": [
    "Commençons l'**indexation** !\n",
    "\n",
    "Prenons la chaîne de caractères *s*, elle est indexée comme suit:"
   ]
  },
  {
   "cell_type": "markdown",
   "metadata": {},
   "source": [
    "<table>\n",
    "<tr>\n",
    "    <th>P</th> \n",
    "    <th>y</th>\n",
    "    <th>t</th>\n",
    "    <th>h</th>\n",
    "    <th>o</th>\n",
    "    <th>n</th>\n",
    "    <th>3</th>\n",
    "    <th>.</th>\n",
    "    <th>1</th>\n",
    "    <th>0</th>\n",
    "</tr>\n",
    "\n",
    "<tr>\n",
    "    <td>0</td>\n",
    "    <td>1</td>\n",
    "    <td>2</td>\n",
    "    <td>3</td>\n",
    "    <td>4</td>\n",
    "    <td>5</td>\n",
    "    <td>6</td>\n",
    "    <td>7</td>\n",
    "    <td>8</td>\n",
    "    <td>9</td>\n",
    "</tr>\n",
    "\n",
    "<tr>\n",
    "    <td>-10</td>\n",
    "    <td>-9</td>\n",
    "    <td>-8</td>\n",
    "    <td>-7</td>\n",
    "    <td>-6</td>\n",
    "    <td>-5</td>\n",
    "    <td>-4</td>\n",
    "    <td>-3</td>\n",
    "    <td>-2</td>\n",
    "    <td>-1</td>\n",
    "</tr>\n",
    " </table>"
   ]
  },
  {
   "cell_type": "code",
   "execution_count": 35,
   "metadata": {
    "collapsed": true
   },
   "outputs": [
    {
     "data": {
      "text/plain": [
       "'P'"
      ]
     },
     "execution_count": 35,
     "metadata": {},
     "output_type": "execute_result"
    }
   ],
   "source": [
    "# Afficher le premier élément\n",
    "s[0]"
   ]
  },
  {
   "cell_type": "code",
   "execution_count": 36,
   "metadata": {
    "collapsed": true
   },
   "outputs": [
    {
     "data": {
      "text/plain": [
       "'t'"
      ]
     },
     "execution_count": 36,
     "metadata": {},
     "output_type": "execute_result"
    }
   ],
   "source": [
    "# Afficher le troisème élément\n",
    "s[2]"
   ]
  },
  {
   "cell_type": "markdown",
   "metadata": {},
   "source": [
    "Nous pouvons utiliser **:** pour effectuer un **tranchage (slicing)** qui récupère tout jusqu'à un point désigné. Par exemple :"
   ]
  },
  {
   "cell_type": "code",
   "execution_count": 37,
   "metadata": {
    "collapsed": true
   },
   "outputs": [
    {
     "data": {
      "text/plain": [
       "'ython3.10'"
      ]
     },
     "execution_count": 37,
     "metadata": {},
     "output_type": "execute_result"
    }
   ],
   "source": [
    "# Récupérer tout ce qui dépasse le premier élément (1er élément est inclus) jusqu'à la fin.\n",
    "s[1:]"
   ]
  },
  {
   "cell_type": "code",
   "execution_count": 38,
   "metadata": {
    "collapsed": true
   },
   "outputs": [
    {
     "data": {
      "text/plain": [
       "'Python3.10'"
      ]
     },
     "execution_count": 38,
     "metadata": {},
     "output_type": "execute_result"
    }
   ],
   "source": [
    "# Notez qu'il n'y a pas de changement à \"s\"\n",
    "s"
   ]
  },
  {
   "cell_type": "code",
   "execution_count": 39,
   "metadata": {
    "collapsed": true
   },
   "outputs": [
    {
     "data": {
      "text/plain": [
       "'Pyt'"
      ]
     },
     "execution_count": 39,
     "metadata": {},
     "output_type": "execute_result"
    }
   ],
   "source": [
    "# Récupérer le tout jusqu'au 3ème indice\n",
    "s[:3]"
   ]
  },
  {
   "cell_type": "code",
   "execution_count": 40,
   "metadata": {
    "collapsed": true
   },
   "outputs": [
    {
     "data": {
      "text/plain": [
       "'h'"
      ]
     },
     "execution_count": 40,
     "metadata": {},
     "output_type": "execute_result"
    }
   ],
   "source": [
    "# Notez que le 3ème élément est exclus.\n",
    "# Vous le remarquerez beaucoup en Python, où les instructions sont généralement\n",
    "# dans le contexte de \"jusqu'à, mais pas inclus\".\n",
    "s[3]"
   ]
  },
  {
   "cell_type": "code",
   "execution_count": 41,
   "metadata": {
    "collapsed": true
   },
   "outputs": [
    {
     "name": "stdout",
     "output_type": "stream",
     "text": [
      "langage_programmation: Python\n",
      "version: 3.10\n"
     ]
    }
   ],
   "source": [
    "# Assigner des chaînes de caractéres à partir de \"s\"\n",
    "langage_programmation = s[:6]\n",
    "version = s[6:10]\n",
    "print(\"langage_programmation:\", langage_programmation)\n",
    "print(\"version:\", version)"
   ]
  },
  {
   "cell_type": "markdown",
   "metadata": {},
   "source": [
    "Notez que la virgule (,) qu'on a utilisé dans la fonction <font color='blue'>**print()**</font> fait une concaténation en ajoutant un espace entre les chaînes de caractères."
   ]
  },
  {
   "cell_type": "code",
   "execution_count": 42,
   "metadata": {
    "collapsed": true
   },
   "outputs": [
    {
     "name": "stdout",
     "output_type": "stream",
     "text": [
      "Bonjour tout le monde\n"
     ]
    }
   ],
   "source": [
    "# Concaténer 4 chaînes de caractéres\n",
    "print(\"Bonjour\",'tout',\"le\",'monde')"
   ]
  },
  {
   "cell_type": "markdown",
   "metadata": {},
   "source": [
    "Vous ne pouvez pas concacténer des chaines de caractères par une virgule sans utiliser la fonction <font color='blue'>**print()**</font>. Par exemple :"
   ]
  },
  {
   "cell_type": "code",
   "execution_count": 43,
   "metadata": {
    "collapsed": true
   },
   "outputs": [
    {
     "data": {
      "text/plain": [
       "('Bonjour', 'tout', 'le', 'monde')"
      ]
     },
     "execution_count": 43,
     "metadata": {},
     "output_type": "execute_result"
    }
   ],
   "source": [
    "\"Bonjour\",'tout',\"le\",'monde'"
   ]
  },
  {
   "cell_type": "markdown",
   "metadata": {},
   "source": [
    "Le résultat n'est pas une chaîne de caractéres bien sûr. On va voir comment faire la concaténation plus tard. "
   ]
  },
  {
   "cell_type": "code",
   "execution_count": 44,
   "metadata": {
    "collapsed": true
   },
   "outputs": [
    {
     "data": {
      "text/plain": [
       "'Python3.10'"
      ]
     },
     "execution_count": 44,
     "metadata": {},
     "output_type": "execute_result"
    }
   ],
   "source": [
    "# Récupérer tout\n",
    "s[:]"
   ]
  },
  {
   "cell_type": "markdown",
   "metadata": {},
   "source": [
    "On peut aussi utiliser l'**indexation négative**."
   ]
  },
  {
   "cell_type": "code",
   "execution_count": 45,
   "metadata": {
    "collapsed": true
   },
   "outputs": [
    {
     "data": {
      "text/plain": [
       "'0'"
      ]
     },
     "execution_count": 45,
     "metadata": {},
     "output_type": "execute_result"
    }
   ],
   "source": [
    "# Dernière lettre\n",
    "s[-1]"
   ]
  },
  {
   "cell_type": "code",
   "execution_count": 46,
   "metadata": {
    "collapsed": true
   },
   "outputs": [
    {
     "data": {
      "text/plain": [
       "'Python3.1'"
      ]
     },
     "execution_count": 46,
     "metadata": {},
     "output_type": "execute_result"
    }
   ],
   "source": [
    "# Récupère tout sauf la dernière lettre\n",
    "s[:-1]"
   ]
  },
  {
   "cell_type": "markdown",
   "metadata": {},
   "source": [
    "On peut aussi utiliser l'indexation et le tranchage en spécifiant un *pas* (la valeur par défaut est 1). Par exemple:"
   ]
  },
  {
   "cell_type": "code",
   "execution_count": 47,
   "metadata": {
    "collapsed": true
   },
   "outputs": [
    {
     "data": {
      "text/plain": [
       "'Python3.10'"
      ]
     },
     "execution_count": 47,
     "metadata": {},
     "output_type": "execute_result"
    }
   ],
   "source": [
    "# Récupérer tout, mais aller par un pas de taille de 1\n",
    "s[::1]"
   ]
  },
  {
   "cell_type": "code",
   "execution_count": 48,
   "metadata": {
    "collapsed": true
   },
   "outputs": [
    {
     "data": {
      "text/plain": [
       "'Pto31'"
      ]
     },
     "execution_count": 48,
     "metadata": {},
     "output_type": "execute_result"
    }
   ],
   "source": [
    "# Récupérer tout, mais aller par un pas de taille de 2\n",
    "s[::2]"
   ]
  },
  {
   "cell_type": "code",
   "execution_count": 49,
   "metadata": {
    "collapsed": true
   },
   "outputs": [
    {
     "data": {
      "text/plain": [
       "'yh'"
      ]
     },
     "execution_count": 49,
     "metadata": {},
     "output_type": "execute_result"
    }
   ],
   "source": [
    "# Récupérer les éléments d'indices de 1 jusqu'à 5 (5 est exclus), avec un pas de taille de 2\n",
    "s[1:5:2]"
   ]
  },
  {
   "cell_type": "markdown",
   "metadata": {},
   "source": [
    "La forme générale de **tranchage** est :\n",
    "<table>\n",
    "<tr>\n",
    "    <th>s[</th>\n",
    "    <th>Début</th> \n",
    "    <th>:</th>\n",
    "    <th>Fin (exclus)</th>\n",
    "    <th>:</th>\n",
    "    <th>Pas</th>\n",
    "    <th>]</th>\n",
    "</tr>\n",
    "<table>"
   ]
  },
  {
   "cell_type": "code",
   "execution_count": 50,
   "metadata": {
    "collapsed": true
   },
   "outputs": [
    {
     "name": "stdout",
     "output_type": "stream",
     "text": [
      "01.3nohtyP\n",
      "Python3.10\n"
     ]
    }
   ],
   "source": [
    "# Nous pouvons utiliser ce \"pas\" pour imprimer une chaîne de caractères à l'envers.\n",
    "# \"s_enverse\" est l'envers de \"s\" :\n",
    "s_enverse = s[::-1]\n",
    "# \"s_enverse_enverse\" est l'envers de \"s_enverse\", et donc à la même valeurs que \"s\" :\n",
    "s_inverse_enverse = s_enverse[::-1]\n",
    "print(s_enverse)\n",
    "print(s_inverse_enverse)\n"
   ]
  },
  {
   "cell_type": "markdown",
   "metadata": {
    "collapsed": true
   },
   "source": [
    "#### Propriétés des chaînes de caractères\n",
    "Il est important de noter que les chaînes de caractères ont une propriété importante connue sous le nom d'**immutabilité** (immutability). Cela signifie qu'une fois qu'une chaîne de caractères est créée, les éléments qu'elle contient ne peuvent pas être modifiés ou remplacés. Par exemple :"
   ]
  },
  {
   "cell_type": "code",
   "execution_count": 51,
   "metadata": {
    "collapsed": true
   },
   "outputs": [
    {
     "data": {
      "text/plain": [
       "'Python3.10'"
      ]
     },
     "execution_count": 51,
     "metadata": {},
     "output_type": "execute_result"
    }
   ],
   "source": [
    "# Vérifier\n",
    "s"
   ]
  },
  {
   "cell_type": "code",
   "execution_count": 52,
   "metadata": {
    "collapsed": true
   },
   "outputs": [
    {
     "ename": "TypeError",
     "evalue": "'str' object does not support item assignment",
     "output_type": "error",
     "traceback": [
      "\u001b[0;31m---------------------------------------------------------------------------\u001b[0m",
      "\u001b[0;31mTypeError\u001b[0m                                 Traceback (most recent call last)",
      "\u001b[0;32m<ipython-input-52-a8745b7c1da3>\u001b[0m in \u001b[0;36m<module>\u001b[0;34m\u001b[0m\n\u001b[1;32m      1\u001b[0m \u001b[0;31m# Essayons de changer la première lettre en 'p'\u001b[0m\u001b[0;34m\u001b[0m\u001b[0;34m\u001b[0m\u001b[0;34m\u001b[0m\u001b[0m\n\u001b[0;32m----> 2\u001b[0;31m \u001b[0ms\u001b[0m\u001b[0;34m[\u001b[0m\u001b[0;36m0\u001b[0m\u001b[0;34m]\u001b[0m \u001b[0;34m=\u001b[0m \u001b[0;34m'p'\u001b[0m\u001b[0;34m\u001b[0m\u001b[0;34m\u001b[0m\u001b[0m\n\u001b[0m",
      "\u001b[0;31mTypeError\u001b[0m: 'str' object does not support item assignment"
     ]
    }
   ],
   "source": [
    "# Essayons de changer la première lettre en 'p'\n",
    "s[0] = 'p'"
   ]
  },
  {
   "cell_type": "markdown",
   "metadata": {},
   "source": [
    "Remarquez comment l'erreur nous dit directement ce que nous ne pouvons pas faire : *'str' object does not support item assignment* (l'objet 'str' - la chaîne de caractère s - ne supporte pas l'affectation à un élément).\n",
    "\n",
    "Ce que nous pouvons faire, c'est de **concaténer** les chaînes de caractères :"
   ]
  },
  {
   "cell_type": "code",
   "execution_count": 53,
   "metadata": {
    "collapsed": true
   },
   "outputs": [
    {
     "data": {
      "text/plain": [
       "'Python3.10'"
      ]
     },
     "execution_count": 53,
     "metadata": {},
     "output_type": "execute_result"
    }
   ],
   "source": [
    "# Vérifier\n",
    "s"
   ]
  },
  {
   "cell_type": "code",
   "execution_count": 54,
   "metadata": {
    "collapsed": true
   },
   "outputs": [
    {
     "data": {
      "text/plain": [
       "'Python3.10 est simple'"
      ]
     },
     "execution_count": 54,
     "metadata": {},
     "output_type": "execute_result"
    }
   ],
   "source": [
    "# Concaténer les chaînes de caractères\n",
    "s + ' est simple'"
   ]
  },
  {
   "cell_type": "code",
   "execution_count": 55,
   "metadata": {
    "collapsed": true
   },
   "outputs": [
    {
     "name": "stdout",
     "output_type": "stream",
     "text": [
      "Python3.10 est simple et amusant\n"
     ]
    }
   ],
   "source": [
    "# Nous pouvons cependant réassigner \"s\"\n",
    "s = s + ' est simple'\n",
    "s += ' et amusant'\n",
    "print(s)"
   ]
  },
  {
   "cell_type": "code",
   "execution_count": 56,
   "metadata": {},
   "outputs": [
    {
     "data": {
      "text/plain": [
       "'Python3.10 est simple et amusant'"
      ]
     },
     "execution_count": 56,
     "metadata": {},
     "output_type": "execute_result"
    }
   ],
   "source": [
    "# Vérifier\n",
    "s"
   ]
  },
  {
   "cell_type": "markdown",
   "metadata": {},
   "source": [
    "Notez bien que vous ne pouvez pas concaténer une chaîne de caractère avec un autre type (comme un nombre). Par exemple :"
   ]
  },
  {
   "cell_type": "code",
   "execution_count": 57,
   "metadata": {},
   "outputs": [
    {
     "ename": "TypeError",
     "evalue": "can only concatenate str (not \"int\") to str",
     "output_type": "error",
     "traceback": [
      "\u001b[0;31m---------------------------------------------------------------------------\u001b[0m",
      "\u001b[0;31mTypeError\u001b[0m                                 Traceback (most recent call last)",
      "\u001b[0;32m<ipython-input-57-e0f51cb73c2d>\u001b[0m in \u001b[0;36m<module>\u001b[0;34m\u001b[0m\n\u001b[0;32m----> 1\u001b[0;31m \u001b[0ms\u001b[0m \u001b[0;34m+\u001b[0m \u001b[0;36m12\u001b[0m\u001b[0;34m\u001b[0m\u001b[0;34m\u001b[0m\u001b[0m\n\u001b[0m",
      "\u001b[0;31mTypeError\u001b[0m: can only concatenate str (not \"int\") to str"
     ]
    }
   ],
   "source": [
    "s + 12"
   ]
  },
  {
   "cell_type": "markdown",
   "metadata": {},
   "source": [
    "Nous pouvons utiliser le symbole de multiplication pour créer des **répétitions** :"
   ]
  },
  {
   "cell_type": "code",
   "execution_count": 58,
   "metadata": {
    "collapsed": true
   },
   "outputs": [],
   "source": [
    "letter = 'h'"
   ]
  },
  {
   "cell_type": "code",
   "execution_count": 59,
   "metadata": {
    "collapsed": true
   },
   "outputs": [
    {
     "data": {
      "text/plain": [
       "'hhhhhhhhhhhhhhhhhh'"
      ]
     },
     "execution_count": 59,
     "metadata": {},
     "output_type": "execute_result"
    }
   ],
   "source": [
    "letter*18"
   ]
  },
  {
   "cell_type": "markdown",
   "metadata": {},
   "source": [
    "#### Méthodes/Fonctions de base intégrées (built-in) de chaînes de caractères\n",
    "\n",
    "Les objets en Python ont généralement des **méthodes et des fonction intégrées**, qui peuvent effectuer des actions ou des commandes sur l'objet lui-même.\n",
    "\n",
    "Ne vous inquiétez pas! nous passerons par les méthodes en détail plus tard, vous devez juste savoir qu'une méthode en Python, est une fonction accessible par un point (.) .\n",
    "\n",
    "Voici quelques exemples des méthodes/fonctions intégrées dans les chaînes de caractères :"
   ]
  },
  {
   "cell_type": "code",
   "execution_count": 60,
   "metadata": {
    "collapsed": true
   },
   "outputs": [
    {
     "data": {
      "text/plain": [
       "'Python3.10 est simple et amusant'"
      ]
     },
     "execution_count": 60,
     "metadata": {},
     "output_type": "execute_result"
    }
   ],
   "source": [
    "# Vérifier\n",
    "s"
   ]
  },
  {
   "cell_type": "code",
   "execution_count": 61,
   "metadata": {
    "collapsed": true
   },
   "outputs": [
    {
     "data": {
      "text/plain": [
       "32"
      ]
     },
     "execution_count": 61,
     "metadata": {},
     "output_type": "execute_result"
    }
   ],
   "source": [
    "# Récupérer la longueur de \"s\" à l'aide de la fonction \"len()\"\n",
    "len(s)"
   ]
  },
  {
   "cell_type": "code",
   "execution_count": 62,
   "metadata": {
    "collapsed": true
   },
   "outputs": [
    {
     "data": {
      "text/plain": [
       "'PYTHON3.10 EST SIMPLE ET AMUSANT'"
      ]
     },
     "execution_count": 62,
     "metadata": {},
     "output_type": "execute_result"
    }
   ],
   "source": [
    "# Mettre \"s\" en MAJUSCULE\n",
    "s.upper()"
   ]
  },
  {
   "cell_type": "code",
   "execution_count": 63,
   "metadata": {
    "collapsed": true
   },
   "outputs": [
    {
     "data": {
      "text/plain": [
       "'python3.10 est simple et amusant'"
      ]
     },
     "execution_count": 63,
     "metadata": {},
     "output_type": "execute_result"
    }
   ],
   "source": [
    "# Mettre \"s\" en majuscule\n",
    "s.lower()"
   ]
  },
  {
   "cell_type": "code",
   "execution_count": 64,
   "metadata": {
    "collapsed": true
   },
   "outputs": [
    {
     "data": {
      "text/plain": [
       "['Python3.10', 'est', 'simple', 'et', 'amusant']"
      ]
     },
     "execution_count": 64,
     "metadata": {},
     "output_type": "execute_result"
    }
   ],
   "source": [
    "# Découper \"s\" selon les espaces blancs (c'est la valeur par défaut)\n",
    "s.split()"
   ]
  },
  {
   "cell_type": "code",
   "execution_count": 65,
   "metadata": {
    "collapsed": true
   },
   "outputs": [
    {
     "data": {
      "text/plain": [
       "['Py', 'hon3.10 es', ' simple e', ' amusan', '']"
      ]
     },
     "execution_count": 65,
     "metadata": {},
     "output_type": "execute_result"
    }
   ],
   "source": [
    "# Découper \"s\" selon un élément spécifique\n",
    "s.split('t')"
   ]
  },
  {
   "cell_type": "markdown",
   "metadata": {},
   "source": [
    "Il y a beaucoup plus de méthodes/fonctions que celles qui sont couvertes ici, et qu'on va les étudier plus tard.\n",
    "\n",
    "#### f-strings\n",
    "Pour insérer la valeur d'une variable dans une chaîne de caractères, placez la lettre *f* immédiatement avant les guillemets. Placez des accolades autour du ou des noms de toutes les variables que vous souhaitez utiliser à l'intérieur de la chaîne. Python remplacera chaque variable par sa valeur lorsque la chaîne sera affichée. Ces chaînes de caractères sont appelées *f-strings*. Le *f* est pour format, car Python formate la chaîne en remplaçant le nom de toute variable entre accolades par sa valeur. Prenons les examples suivants :"
   ]
  },
  {
   "cell_type": "code",
   "execution_count": 66,
   "metadata": {},
   "outputs": [
    {
     "name": "stdout",
     "output_type": "stream",
     "text": [
      "Bonjour Hamza Jamal\n"
     ]
    }
   ],
   "source": [
    "prenom = \"Hamza\"\n",
    "nom = \"Jamal\"\n",
    "message = f\"Bonjour {prenom} {nom}\"\n",
    "print(message)"
   ]
  },
  {
   "cell_type": "markdown",
   "metadata": {},
   "source": [
    "Les f-strings ont été introduites pour la première fois dans Python 3.6. La méthode *format()* été le seul moyen utilisé dans Python 3.5 et les versions antérieures pour faire la même chose. Pour utiliser la méthode *format()*, énumérez les variables que vous souhaitez utiliser dans la chaîne de caractères à l'intérieur des parenthèses qui suivent *format*. Chaque variable est désignée par un ensemble d'accolades, les accolades seront remplies par les valeurs énumérées entre parenthèses dans l'ordre indiqué :"
   ]
  },
  {
   "cell_type": "code",
   "execution_count": 67,
   "metadata": {},
   "outputs": [
    {
     "name": "stdout",
     "output_type": "stream",
     "text": [
      "Bonjour Hamza Jamal\n"
     ]
    }
   ],
   "source": [
    "prenom = \"Hamza\"\n",
    "nom = \"Jamal\"\n",
    "message = \"Bonjour {} {}\".format(prenom, nom)\n",
    "print(message)"
   ]
  },
  {
   "cell_type": "markdown",
   "metadata": {},
   "source": [
    "### Listes\n",
    "\n",
    "Plus tôt dans les chaînes de caractères, nous avons introduit le concept d'une **séquence** en Python. Les listes peuvent être pensées de la version la plus générale d'une séquence en Python. Contrairement aux chaînes de caractères, elles sont **mutables**, ce qui signifie que les éléments à l'intérieur d'une liste peuvent être modifiés.\n",
    "\n",
    "Dans cette section, nous en apprendrons davantage sur :\n",
    "    \n",
    "    1. La création de listes\n",
    "    2. L'indexation et tranchage des listes\n",
    "    3. Les méthodes de liste de base\n",
    "    4. L'imbrication des listes\n",
    "\n",
    "#### Construire des listes\n",
    "\n",
    "Les listes sont construites avec des crochets **[]** et des virgules séparant chaque élément de la liste.\n",
    "\n",
    "Allons de l'avant et voyons comment nous pouvons construire des listes :"
   ]
  },
  {
   "cell_type": "code",
   "execution_count": 68,
   "metadata": {
    "collapsed": true
   },
   "outputs": [],
   "source": [
    "# Affecter une liste à une variable nommée l\n",
    "l = [1,2,3]"
   ]
  },
  {
   "cell_type": "markdown",
   "metadata": {},
   "source": [
    "Nous venons de créer une liste d'entiers, mais les listes peuvent contenir différents types d'objets. Par exemple :"
   ]
  },
  {
   "cell_type": "code",
   "execution_count": 69,
   "metadata": {
    "collapsed": true
   },
   "outputs": [],
   "source": [
    "# Réaffecter une liste à l\n",
    "l = ['un',2,3.0,\"quatre\"]"
   ]
  },
  {
   "cell_type": "markdown",
   "metadata": {},
   "source": [
    "Tout comme les chaînes de caractères, la fonction <font color='blue'>**len()**</font> vous indiquera combien d'éléments se trouvent dans la séquence de la liste."
   ]
  },
  {
   "cell_type": "code",
   "execution_count": 70,
   "metadata": {
    "collapsed": true
   },
   "outputs": [
    {
     "data": {
      "text/plain": [
       "4"
      ]
     },
     "execution_count": 70,
     "metadata": {},
     "output_type": "execute_result"
    }
   ],
   "source": [
    "# Longueur de l\n",
    "len(l)"
   ]
  },
  {
   "cell_type": "markdown",
   "metadata": {},
   "source": [
    "#### Indexation et tranchage\n",
    "L'**indexation** et le **tranchage** fonctionnent comme dans les chaînes de caractères. Faisons un exemple pour nous rappeler comment cela fonctionne :"
   ]
  },
  {
   "cell_type": "code",
   "execution_count": 71,
   "metadata": {
    "collapsed": true
   },
   "outputs": [
    {
     "name": "stdout",
     "output_type": "stream",
     "text": [
      "un\n",
      "2\n",
      "2\n"
     ]
    }
   ],
   "source": [
    "# Récupérer les éléments aux indices 0 et -3\n",
    "print(l[0])\n",
    "# Rappelez que l'élément au indice -3 peut être récupérer à partir de l'indice 1\n",
    "print(l[-3])\n",
    "print(l[1])"
   ]
  },
  {
   "cell_type": "code",
   "execution_count": 72,
   "metadata": {},
   "outputs": [
    {
     "name": "stdout",
     "output_type": "stream",
     "text": [
      "['un', 2, 3.0, 4]\n"
     ]
    }
   ],
   "source": [
    "# Changer l'élément à l'indice 3\n",
    "l[3] = 4\n",
    "print(l)"
   ]
  },
  {
   "cell_type": "code",
   "execution_count": 73,
   "metadata": {
    "collapsed": true
   },
   "outputs": [
    {
     "data": {
      "text/plain": [
       "[2, 3.0, 4]"
      ]
     },
     "execution_count": 73,
     "metadata": {},
     "output_type": "execute_result"
    }
   ],
   "source": [
    "# Récupérer tout ce qui dépasse le premier élément jusqu'à la fin\n",
    "l[1:]"
   ]
  },
  {
   "cell_type": "code",
   "execution_count": 74,
   "metadata": {
    "collapsed": true
   },
   "outputs": [
    {
     "data": {
      "text/plain": [
       "['un', 2, 3.0]"
      ]
     },
     "execution_count": 74,
     "metadata": {},
     "output_type": "execute_result"
    }
   ],
   "source": [
    "# Récupérer tout jusqu'à l'élément d'indice 3\n",
    "l[:3]"
   ]
  },
  {
   "cell_type": "markdown",
   "metadata": {},
   "source": [
    "Il faut également noter que l'**indexation** des listes retournera une erreur s'il n'y a pas d'élément à cet indice. Par exemple :"
   ]
  },
  {
   "cell_type": "code",
   "execution_count": 75,
   "metadata": {
    "collapsed": true
   },
   "outputs": [
    {
     "ename": "IndexError",
     "evalue": "list index out of range",
     "output_type": "error",
     "traceback": [
      "\u001b[0;31m---------------------------------------------------------------------------\u001b[0m",
      "\u001b[0;31mIndexError\u001b[0m                                Traceback (most recent call last)",
      "\u001b[0;32m<ipython-input-75-e2a0c2623844>\u001b[0m in \u001b[0;36m<module>\u001b[0;34m\u001b[0m\n\u001b[0;32m----> 1\u001b[0;31m \u001b[0ml\u001b[0m\u001b[0;34m[\u001b[0m\u001b[0;36m100\u001b[0m\u001b[0;34m]\u001b[0m\u001b[0;34m\u001b[0m\u001b[0;34m\u001b[0m\u001b[0m\n\u001b[0m",
      "\u001b[0;31mIndexError\u001b[0m: list index out of range"
     ]
    }
   ],
   "source": [
    "l[100]"
   ]
  },
  {
   "cell_type": "markdown",
   "metadata": {},
   "source": [
    "Nous pouvons aussi utiliser le **+** pour **concaténer** des listes, comme nous l'avons fait pour les chaînes de caractères."
   ]
  },
  {
   "cell_type": "code",
   "execution_count": 76,
   "metadata": {
    "collapsed": true
   },
   "outputs": [
    {
     "data": {
      "text/plain": [
       "['un', 2, 3.0, 4, 'cinque']"
      ]
     },
     "execution_count": 76,
     "metadata": {},
     "output_type": "execute_result"
    }
   ],
   "source": [
    "l + ['cinque']"
   ]
  },
  {
   "cell_type": "markdown",
   "metadata": {},
   "source": [
    "Notez que cela ne change pas la liste originale"
   ]
  },
  {
   "cell_type": "code",
   "execution_count": 77,
   "metadata": {
    "collapsed": true
   },
   "outputs": [
    {
     "data": {
      "text/plain": [
       "['un', 2, 3.0, 4]"
      ]
     },
     "execution_count": 77,
     "metadata": {},
     "output_type": "execute_result"
    }
   ],
   "source": [
    "# Vérifier\n",
    "l"
   ]
  },
  {
   "cell_type": "markdown",
   "metadata": {},
   "source": [
    "Vous devrez réassigner la liste pour rendre le changement permanent."
   ]
  },
  {
   "cell_type": "code",
   "execution_count": 78,
   "metadata": {
    "collapsed": true
   },
   "outputs": [],
   "source": [
    "# Réassigner \"l\"\n",
    "l = l + ['cinque']"
   ]
  },
  {
   "cell_type": "code",
   "execution_count": 79,
   "metadata": {
    "collapsed": true
   },
   "outputs": [
    {
     "data": {
      "text/plain": [
       "['un', 2, 3.0, 4, 'cinque']"
      ]
     },
     "execution_count": 79,
     "metadata": {},
     "output_type": "execute_result"
    }
   ],
   "source": [
    "# Vérifier\n",
    "l"
   ]
  },
  {
   "cell_type": "markdown",
   "metadata": {},
   "source": [
    "Nous pouvons aussi utiliser l'astérisque (\\*) pour la **duplication**, comme nous l'avons fait pour les chaînes de caractères :"
   ]
  },
  {
   "cell_type": "code",
   "execution_count": 80,
   "metadata": {
    "collapsed": true
   },
   "outputs": [
    {
     "data": {
      "text/plain": [
       "['un', 2, 3.0, 4, 'cinque', 'un', 2, 3.0, 4, 'cinque']"
      ]
     },
     "execution_count": 80,
     "metadata": {},
     "output_type": "execute_result"
    }
   ],
   "source": [
    "# Faire doubler \"l\"\n",
    "l * 2"
   ]
  },
  {
   "cell_type": "code",
   "execution_count": 81,
   "metadata": {
    "collapsed": true
   },
   "outputs": [
    {
     "data": {
      "text/plain": [
       "['un', 2, 3.0, 4, 'cinque']"
      ]
     },
     "execution_count": 81,
     "metadata": {},
     "output_type": "execute_result"
    }
   ],
   "source": [
    "# Encore une fois, la duplication n'est pas permanent\n",
    "l"
   ]
  },
  {
   "cell_type": "markdown",
   "metadata": {},
   "source": [
    "#### Méthodes de base des listes\n",
    "\n",
    "Si vous êtes familier avec un autre langage de programmation, vous pouvez commencer à établir des parallèles entre les **tableaux** dans un autre langage et les listes en Python. Les **listes** en Python ont cependant tendance à être plus flexibles que les tableaux dans d'autres langues pour deux bonnes raisons : \n",
    "- Elles n'ont pas de taille fixe (ce qui signifie que nous n'avons pas à spécifier la taille d'une liste).\n",
    "- Elles n'ont pas de contrainte de type fixe (comme nous l'avons vu plus haut).\n",
    "\n",
    "Allons donc explorer des méthodes spéciales pour les listes :"
   ]
  },
  {
   "cell_type": "code",
   "execution_count": 82,
   "metadata": {
    "collapsed": true
   },
   "outputs": [],
   "source": [
    "# Créer une nouvelle liste\n",
    "liste = [1,2,3]"
   ]
  },
  {
   "cell_type": "markdown",
   "metadata": {},
   "source": [
    "Utilisez la méthode <font color='blue'>**append()**</font> pour ajouter de façon permanente un élément à la fin d'une liste :"
   ]
  },
  {
   "cell_type": "code",
   "execution_count": 83,
   "metadata": {
    "collapsed": true
   },
   "outputs": [],
   "source": [
    "# Append\n",
    "liste.append('cinque')"
   ]
  },
  {
   "cell_type": "code",
   "execution_count": 84,
   "metadata": {},
   "outputs": [
    {
     "data": {
      "text/plain": [
       "[1, 2, 3, 'cinque']"
      ]
     },
     "execution_count": 84,
     "metadata": {},
     "output_type": "execute_result"
    }
   ],
   "source": [
    "# Vérifier\n",
    "liste"
   ]
  },
  {
   "cell_type": "markdown",
   "metadata": {},
   "source": [
    "J'ai oublié d'ajouter le quatre et je peux qu'ajouter des éléments à la fin avec la méthode <font color='blue'>**append()**</font> !!\n",
    "\n",
    "Heureusement on peut utiliser la méthode <font color='blue'>**insert()**</font> pour placer un élément à l'indice indiqué. Par exemple :"
   ]
  },
  {
   "cell_type": "code",
   "execution_count": 85,
   "metadata": {
    "collapsed": true
   },
   "outputs": [],
   "source": [
    "# Placer \"quatre\" à l'indice 3\n",
    "liste.insert(3,\"quatre\")"
   ]
  },
  {
   "cell_type": "code",
   "execution_count": 86,
   "metadata": {},
   "outputs": [
    {
     "data": {
      "text/plain": [
       "[1, 2, 3, 'quatre', 'cinque']"
      ]
     },
     "execution_count": 86,
     "metadata": {},
     "output_type": "execute_result"
    }
   ],
   "source": [
    "# Vérifier\n",
    "liste"
   ]
  },
  {
   "cell_type": "markdown",
   "metadata": {},
   "source": [
    "Utilisez <font color='blue'>**pop()**</font> pour faire supprimer (\"pop off\") un élément de la liste. Par défaut, pop enlève le dernier indice, mais vous pouvez aussi spécifier l'indice à enlever. Voyons un exemple :"
   ]
  },
  {
   "cell_type": "code",
   "execution_count": 87,
   "metadata": {},
   "outputs": [
    {
     "data": {
      "text/plain": [
       "1"
      ]
     },
     "execution_count": 87,
     "metadata": {},
     "output_type": "execute_result"
    }
   ],
   "source": [
    "# Supprimer l'élément d'indice 0\n",
    "liste.pop(0)"
   ]
  },
  {
   "cell_type": "code",
   "execution_count": 88,
   "metadata": {},
   "outputs": [
    {
     "data": {
      "text/plain": [
       "[2, 3, 'quatre', 'cinque']"
      ]
     },
     "execution_count": 88,
     "metadata": {},
     "output_type": "execute_result"
    }
   ],
   "source": [
    "# Vérifier\n",
    "liste"
   ]
  },
  {
   "cell_type": "code",
   "execution_count": 89,
   "metadata": {
    "collapsed": true
   },
   "outputs": [],
   "source": [
    "# Récupérer l'élément supprimé, rappelez que l'élément à supprimer par défault est d'indice -1\n",
    "popped_item = liste.pop()"
   ]
  },
  {
   "cell_type": "code",
   "execution_count": 90,
   "metadata": {},
   "outputs": [
    {
     "data": {
      "text/plain": [
       "'cinque'"
      ]
     },
     "execution_count": 90,
     "metadata": {},
     "output_type": "execute_result"
    }
   ],
   "source": [
    "# Vérifier\n",
    "popped_item"
   ]
  },
  {
   "cell_type": "code",
   "execution_count": 91,
   "metadata": {},
   "outputs": [
    {
     "data": {
      "text/plain": [
       "[2, 3, 'quatre']"
      ]
     },
     "execution_count": 91,
     "metadata": {},
     "output_type": "execute_result"
    }
   ],
   "source": [
    "# Afficher la liste restante\n",
    "liste"
   ]
  },
  {
   "cell_type": "markdown",
   "metadata": {},
   "source": [
    "Utilisez la méthode <font color='blue'>**remove()**</font> pour supprimer la première occurrence d'une valeur. Par exemple :"
   ]
  },
  {
   "cell_type": "code",
   "execution_count": 92,
   "metadata": {
    "collapsed": true
   },
   "outputs": [],
   "source": [
    "# Supprimer l'élément \"quatre\"\n",
    "liste.remove('quatre')"
   ]
  },
  {
   "cell_type": "code",
   "execution_count": 93,
   "metadata": {},
   "outputs": [
    {
     "data": {
      "text/plain": [
       "[2, 3]"
      ]
     },
     "execution_count": 93,
     "metadata": {},
     "output_type": "execute_result"
    }
   ],
   "source": [
    "# Vérifier\n",
    "liste"
   ]
  },
  {
   "cell_type": "markdown",
   "metadata": {},
   "source": [
    "Ajoutons des nouveaux éléments à *liste* :"
   ]
  },
  {
   "cell_type": "code",
   "execution_count": 94,
   "metadata": {
    "collapsed": true
   },
   "outputs": [],
   "source": [
    "# Ajouter des élément à \"liste\"\n",
    "liste.append(2)\n",
    "liste.insert(0,3)"
   ]
  },
  {
   "cell_type": "code",
   "execution_count": 95,
   "metadata": {
    "collapsed": true
   },
   "outputs": [],
   "source": [
    "# Supprimer la première 3 à \"liste\"\n",
    "liste.remove(3)"
   ]
  },
  {
   "cell_type": "code",
   "execution_count": 96,
   "metadata": {
    "scrolled": true
   },
   "outputs": [
    {
     "data": {
      "text/plain": [
       "[2, 3, 2]"
      ]
     },
     "execution_count": 96,
     "metadata": {},
     "output_type": "execute_result"
    }
   ],
   "source": [
    "# Vérifier\n",
    "liste"
   ]
  },
  {
   "cell_type": "code",
   "execution_count": 97,
   "metadata": {
    "collapsed": true
   },
   "outputs": [],
   "source": [
    "# Supprimer la première 2 à \"liste\"\n",
    "liste.remove(2)"
   ]
  },
  {
   "cell_type": "code",
   "execution_count": 98,
   "metadata": {},
   "outputs": [
    {
     "data": {
      "text/plain": [
       "[3, 2]"
      ]
     },
     "execution_count": 98,
     "metadata": {},
     "output_type": "execute_result"
    }
   ],
   "source": [
    "# Vérifier\n",
    "liste"
   ]
  },
  {
   "cell_type": "markdown",
   "metadata": {},
   "source": [
    "Nous pouvons utiliser la méthode <font color='blue'>**sort()**</font> et les méthodes <font color='blue'>**reverse()**</font> pour trier et inverser une liste :"
   ]
  },
  {
   "cell_type": "code",
   "execution_count": 99,
   "metadata": {
    "collapsed": true
   },
   "outputs": [],
   "source": [
    "new_list = ['P','y','t','h','o','n']"
   ]
  },
  {
   "cell_type": "code",
   "execution_count": 100,
   "metadata": {
    "collapsed": true
   },
   "outputs": [
    {
     "data": {
      "text/plain": [
       "['P', 'y', 't', 'h', 'o', 'n']"
      ]
     },
     "execution_count": 100,
     "metadata": {},
     "output_type": "execute_result"
    }
   ],
   "source": [
    "# Afficher\n",
    "new_list"
   ]
  },
  {
   "cell_type": "code",
   "execution_count": 101,
   "metadata": {
    "collapsed": true
   },
   "outputs": [],
   "source": [
    "# Utilisez la méthode \"reverse()\" pour inverser l'ordre (c'est permanent)\n",
    "new_list.reverse()"
   ]
  },
  {
   "cell_type": "code",
   "execution_count": 102,
   "metadata": {
    "collapsed": true
   },
   "outputs": [
    {
     "data": {
      "text/plain": [
       "['n', 'o', 'h', 't', 'y', 'P']"
      ]
     },
     "execution_count": 102,
     "metadata": {},
     "output_type": "execute_result"
    }
   ],
   "source": [
    "# Afficher\n",
    "new_list"
   ]
  },
  {
   "cell_type": "code",
   "execution_count": 103,
   "metadata": {
    "collapsed": true
   },
   "outputs": [],
   "source": [
    "# Utilisez la méthode \"sort()\" pour trier la liste (dans ce cas, l'ordre alphabétique)\n",
    "new_list.sort()"
   ]
  },
  {
   "cell_type": "code",
   "execution_count": 104,
   "metadata": {
    "collapsed": true
   },
   "outputs": [
    {
     "data": {
      "text/plain": [
       "['P', 'h', 'n', 'o', 't', 'y']"
      ]
     },
     "execution_count": 104,
     "metadata": {},
     "output_type": "execute_result"
    }
   ],
   "source": [
    "# Afficher\n",
    "new_list"
   ]
  },
  {
   "cell_type": "code",
   "execution_count": 105,
   "metadata": {
    "collapsed": true
   },
   "outputs": [],
   "source": [
    "# Utilisation de la méthode \"sort()\" sur une liste des numéros fait le triage selon un ordre ascendante\n",
    "l_num = [1,4,5,3,2]\n",
    "l_num.sort()"
   ]
  },
  {
   "cell_type": "code",
   "execution_count": 106,
   "metadata": {
    "collapsed": true
   },
   "outputs": [
    {
     "data": {
      "text/plain": [
       "[1, 2, 3, 4, 5]"
      ]
     },
     "execution_count": 106,
     "metadata": {},
     "output_type": "execute_result"
    }
   ],
   "source": [
    "# Afficher\n",
    "l_num"
   ]
  },
  {
   "cell_type": "markdown",
   "metadata": {},
   "source": [
    "#### Listes imbriquées\n",
    "Une grande caractéristique des structures de données Python est qu'elles supportent l'**imbrication**. Cela signifie que nous pouvons avoir des structures de données à l'intérieur des structures de données. Par exemple : Une liste à l'intérieur d'une liste."
   ]
  },
  {
   "cell_type": "code",
   "execution_count": 107,
   "metadata": {
    "collapsed": true
   },
   "outputs": [],
   "source": [
    "# Créer une matrice à partir des listes\n",
    "m = [[0,1,2],[3,4,5],[6,7,8]]"
   ]
  },
  {
   "cell_type": "code",
   "execution_count": 108,
   "metadata": {
    "collapsed": true
   },
   "outputs": [
    {
     "data": {
      "text/plain": [
       "[[0, 1, 2], [3, 4, 5], [6, 7, 8]]"
      ]
     },
     "execution_count": 108,
     "metadata": {},
     "output_type": "execute_result"
    }
   ],
   "source": [
    "# Afficher\n",
    "m"
   ]
  },
  {
   "cell_type": "markdown",
   "metadata": {},
   "source": [
    "Maintenant, nous pouvons à nouveau utiliser l'indexation pour récupérer des éléments, mais il y a maintenant deux niveaux d'indices. Les éléments dans l'objet *m* (la liste *m*), puis les éléments des listes intérieures."
   ]
  },
  {
   "cell_type": "code",
   "execution_count": 109,
   "metadata": {
    "collapsed": true
   },
   "outputs": [
    {
     "data": {
      "text/plain": [
       "[0, 1, 2]"
      ]
     },
     "execution_count": 109,
     "metadata": {},
     "output_type": "execute_result"
    }
   ],
   "source": [
    "# Récupérer le premier élément de la matrice \"m\"\n",
    "m[0]"
   ]
  },
  {
   "cell_type": "code",
   "execution_count": 110,
   "metadata": {
    "collapsed": true
   },
   "outputs": [
    {
     "data": {
      "text/plain": [
       "0"
      ]
     },
     "execution_count": 110,
     "metadata": {},
     "output_type": "execute_result"
    }
   ],
   "source": [
    "# Récupérer le premier élément (un nombre) du premier élément (une liste) de la matrice \"m\"\n",
    "m[0][0]"
   ]
  },
  {
   "cell_type": "markdown",
   "metadata": {},
   "source": [
    "### Tuples\n",
    "\n",
    "En Python, les tuples sont très similaires aux listes, mais contrairement aux listes, ils sont **immutables**, ce qui signifie qu'ils ne peuvent pas être modifiés. Vous utiliseriez les tuples pour présenter des choses qui ne devraient pas être changées, comme les jours de la semaine ou les dates sur un calendrier. \n",
    "\n",
    "Dans cette section, nous aurons un bref aperçu de ce qui suit :\n",
    "\n",
    "    1. La création des tuples\n",
    "    2. Les méthodes de base du tuple\n",
    "    3. L'immutabilité des tuples\n",
    "    4. Quand utiliser les tuples\n",
    "\n",
    "Vous aurez une intuition de la façon d'utiliser les tuples en fonction de ce que vous avez appris sur les listes. Nous pouvons les traiter de façon très similaire, la principale distinction étant que les tuples sont immuables.\n",
    "\n",
    "#### Construire des tuples\n",
    "\n",
    "Les tuples sont construits avec des parenthèses **()** avec des éléments séparés par des virgules. Par exemple :"
   ]
  },
  {
   "cell_type": "code",
   "execution_count": 111,
   "metadata": {
    "collapsed": true
   },
   "outputs": [],
   "source": [
    "# Créer un tuple\n",
    "t = (1,2,\"trois\")"
   ]
  },
  {
   "cell_type": "code",
   "execution_count": 112,
   "metadata": {
    "collapsed": true
   },
   "outputs": [
    {
     "data": {
      "text/plain": [
       "3"
      ]
     },
     "execution_count": 112,
     "metadata": {},
     "output_type": "execute_result"
    }
   ],
   "source": [
    "# Obtenir la longueur comme ce qu'on a fait pour une liste\n",
    "len(t)"
   ]
  },
  {
   "cell_type": "code",
   "execution_count": 113,
   "metadata": {
    "collapsed": true
   },
   "outputs": [
    {
     "data": {
      "text/plain": [
       "1"
      ]
     },
     "execution_count": 113,
     "metadata": {},
     "output_type": "execute_result"
    }
   ],
   "source": [
    "# Utiliser l'indexation comme ce qu'on a fait pour une liste\n",
    "t[0]"
   ]
  },
  {
   "cell_type": "code",
   "execution_count": 114,
   "metadata": {
    "collapsed": true
   },
   "outputs": [
    {
     "data": {
      "text/plain": [
       "(2, 'trois')"
      ]
     },
     "execution_count": 114,
     "metadata": {},
     "output_type": "execute_result"
    }
   ],
   "source": [
    "# le tranchage est aussi comme pour les listes\n",
    "t[1:]"
   ]
  },
  {
   "cell_type": "markdown",
   "metadata": {},
   "source": [
    "#### Méthodes de base du tuple\n",
    "\n",
    "Les tuples ont des **méthodes intégrées**, mais pas autant que les listes. Regardons deux d'entre eux :"
   ]
  },
  {
   "cell_type": "code",
   "execution_count": 115,
   "metadata": {
    "collapsed": true
   },
   "outputs": [
    {
     "data": {
      "text/plain": [
       "2"
      ]
     },
     "execution_count": 115,
     "metadata": {},
     "output_type": "execute_result"
    }
   ],
   "source": [
    "# Utiliser la méthode \"index()\" pour récupérer l'indice d'un élément\n",
    "t.index('trois')"
   ]
  },
  {
   "cell_type": "code",
   "execution_count": 116,
   "metadata": {
    "collapsed": true
   },
   "outputs": [
    {
     "ename": "ValueError",
     "evalue": "tuple.index(x): x not in tuple",
     "output_type": "error",
     "traceback": [
      "\u001b[0;31m---------------------------------------------------------------------------\u001b[0m",
      "\u001b[0;31mValueError\u001b[0m                                Traceback (most recent call last)",
      "\u001b[0;32m<ipython-input-116-928aa075835b>\u001b[0m in \u001b[0;36m<module>\u001b[0;34m\u001b[0m\n\u001b[1;32m      1\u001b[0m \u001b[0;31m# Soyez sûr que cet élément existe, sinon vous obtenez une erreur\u001b[0m\u001b[0;34m\u001b[0m\u001b[0;34m\u001b[0m\u001b[0;34m\u001b[0m\u001b[0m\n\u001b[0;32m----> 2\u001b[0;31m \u001b[0mt\u001b[0m\u001b[0;34m.\u001b[0m\u001b[0mindex\u001b[0m\u001b[0;34m(\u001b[0m\u001b[0;34m'un'\u001b[0m\u001b[0;34m)\u001b[0m\u001b[0;34m\u001b[0m\u001b[0;34m\u001b[0m\u001b[0m\n\u001b[0m",
      "\u001b[0;31mValueError\u001b[0m: tuple.index(x): x not in tuple"
     ]
    }
   ],
   "source": [
    "# Soyez sûr que cet élément existe, sinon vous obtenez une erreur\n",
    "t.index('un')"
   ]
  },
  {
   "cell_type": "code",
   "execution_count": 117,
   "metadata": {
    "collapsed": true
   },
   "outputs": [
    {
     "data": {
      "text/plain": [
       "1"
      ]
     },
     "execution_count": 117,
     "metadata": {},
     "output_type": "execute_result"
    }
   ],
   "source": [
    "# Utilisez la méthode \"count()\" pour compter le nombre de fois qu'une valeur apparaît.\n",
    "t.count(2)"
   ]
  },
  {
   "cell_type": "code",
   "execution_count": 118,
   "metadata": {
    "collapsed": true
   },
   "outputs": [
    {
     "data": {
      "text/plain": [
       "0"
      ]
     },
     "execution_count": 118,
     "metadata": {},
     "output_type": "execute_result"
    }
   ],
   "source": [
    "t.count('un')"
   ]
  },
  {
   "cell_type": "markdown",
   "metadata": {},
   "source": [
    "#### Immutabilité\n",
    "Soyez Attention! les tuples sont **immutable**, vous ne pouvez pas les modifier :"
   ]
  },
  {
   "cell_type": "code",
   "execution_count": 119,
   "metadata": {
    "collapsed": true
   },
   "outputs": [
    {
     "ename": "TypeError",
     "evalue": "'tuple' object does not support item assignment",
     "output_type": "error",
     "traceback": [
      "\u001b[0;31m---------------------------------------------------------------------------\u001b[0m",
      "\u001b[0;31mTypeError\u001b[0m                                 Traceback (most recent call last)",
      "\u001b[0;32m<ipython-input-119-d907c6ffb72b>\u001b[0m in \u001b[0;36m<module>\u001b[0;34m\u001b[0m\n\u001b[0;32m----> 1\u001b[0;31m \u001b[0mt\u001b[0m\u001b[0;34m[\u001b[0m\u001b[0;36m0\u001b[0m\u001b[0;34m]\u001b[0m\u001b[0;34m=\u001b[0m \u001b[0;34m'un'\u001b[0m\u001b[0;34m\u001b[0m\u001b[0;34m\u001b[0m\u001b[0m\n\u001b[0m",
      "\u001b[0;31mTypeError\u001b[0m: 'tuple' object does not support item assignment"
     ]
    }
   ],
   "source": [
    "t[0]= 'un'"
   ]
  },
  {
   "cell_type": "markdown",
   "metadata": {},
   "source": [
    "Bien sûr en raison de cette immutabilité, les tuples ne peuvent pas grandir. Une fois qu'un tuple est fait, nous ne pouvons pas l'**ajouter d'autres éléments**."
   ]
  },
  {
   "cell_type": "code",
   "execution_count": 120,
   "metadata": {
    "collapsed": true
   },
   "outputs": [
    {
     "ename": "AttributeError",
     "evalue": "'tuple' object has no attribute 'append'",
     "output_type": "error",
     "traceback": [
      "\u001b[0;31m---------------------------------------------------------------------------\u001b[0m",
      "\u001b[0;31mAttributeError\u001b[0m                            Traceback (most recent call last)",
      "\u001b[0;32m<ipython-input-120-9762e7231196>\u001b[0m in \u001b[0;36m<module>\u001b[0;34m\u001b[0m\n\u001b[0;32m----> 1\u001b[0;31m \u001b[0mt\u001b[0m\u001b[0;34m.\u001b[0m\u001b[0mappend\u001b[0m\u001b[0;34m(\u001b[0m\u001b[0;34m'quatre'\u001b[0m\u001b[0;34m)\u001b[0m\u001b[0;34m\u001b[0m\u001b[0;34m\u001b[0m\u001b[0m\n\u001b[0m",
      "\u001b[0;31mAttributeError\u001b[0m: 'tuple' object has no attribute 'append'"
     ]
    }
   ],
   "source": [
    "t.append('quatre')"
   ]
  },
  {
   "cell_type": "markdown",
   "metadata": {},
   "source": [
    "#### Quand utiliser Tuples\n",
    "\n",
    "Vous vous demandez peut-être : \"Pourquoi utiliser des tuples alors qu'ils ont moins de méthodes disponibles ?\" Pour être honnête, les tuples ne sont pas utilisés aussi souvent que les listes dans la programmation, mais sont utilisés **lorsque l'immutabilité est nécessaire**. Si dans votre programme vous faites circuler un objet et que vous devez vous assurer qu'il n'est pas modifié, alors tuple devient votre solution.\n",
    "\n",
    "Vous devriez maintenant être capable de créer et d'utiliser des tuples dans votre code ainsi que d'avoir une compréhension de leur immuabilité."
   ]
  },
  {
   "cell_type": "markdown",
   "metadata": {},
   "source": [
    "### Dictionnaires\n",
    "\n",
    "Nous avons appris les **séquences** en Python mais maintenant nous allons changer de vitesse et apprendre les **mappings** en Python. Si vous connaissez d'autres langues, vous pouvez considérer ces dictionnaires comme des **tables de hachage**. \n",
    "\n",
    "Cette section servira de brève introduction aux dictionnaires et se compose de :\n",
    "\n",
    "    1. La création d'un dictionnaire\n",
    "    2. L'accès aux objets d'un dictionnaire\n",
    "    3. Les dictionnaires imbriqués\n",
    "    4. Les méthodes de base du dictionnaire\n",
    "\n",
    "Qu'est-ce qu'une **mappings** ? Les mappings sont une collection d'objets qui sont stockés par une **clé**, contrairement à une séquence qui stocke les objets par leur position relative. Il s'agit d'une distinction importante, car les mappings ne conserveront pas l'ordre puisqu'ils ont des objets définis par une clé.\n",
    "\n",
    "Un dictionnaire Python est constitué d'une clé puis d'une valeur associée. Cette valeur peut être presque n'importe quel objet Python.\n",
    "\n",
    "\n",
    "#### Construire un dictionnaire\n",
    "Voyons comment nous pouvons construire des dictionnaires pour mieux comprendre leur fonctionnement :"
   ]
  },
  {
   "cell_type": "code",
   "execution_count": 121,
   "metadata": {
    "collapsed": true
   },
   "outputs": [],
   "source": [
    "# Construire un dictionnaire avec {} et : pour signifier une clé et une valeur\n",
    "d = {'cle1':'valeur1','cle2':'valeur2'}"
   ]
  },
  {
   "cell_type": "code",
   "execution_count": 122,
   "metadata": {
    "collapsed": true
   },
   "outputs": [
    {
     "data": {
      "text/plain": [
       "'valeur1'"
      ]
     },
     "execution_count": 122,
     "metadata": {},
     "output_type": "execute_result"
    }
   ],
   "source": [
    "# Appeler les valeurs par leurs clés\n",
    "d['cle1']"
   ]
  },
  {
   "cell_type": "markdown",
   "metadata": {},
   "source": [
    "Il est important de noter que les dictionnaires sont très flexibles dans les types de données qu'ils peuvent contenir. Par exemple :"
   ]
  },
  {
   "cell_type": "code",
   "execution_count": 123,
   "metadata": {
    "collapsed": true
   },
   "outputs": [],
   "source": [
    "# Construire un dictionnaire dont ces valeurs sont de types: entier, chaîne de caractères, liste et tuple\n",
    "d = {'nombre':123,'string':'123','liste':[1,2,3],'tuple':('item0','item1','item2')}"
   ]
  },
  {
   "cell_type": "code",
   "execution_count": 124,
   "metadata": {
    "collapsed": true
   },
   "outputs": [
    {
     "data": {
      "text/plain": [
       "[1, 2, 3]"
      ]
     },
     "execution_count": 124,
     "metadata": {},
     "output_type": "execute_result"
    }
   ],
   "source": [
    "# Appeler les éléments du dictionnaire\n",
    "d['liste']"
   ]
  },
  {
   "cell_type": "code",
   "execution_count": 125,
   "metadata": {
    "collapsed": true
   },
   "outputs": [
    {
     "data": {
      "text/plain": [
       "2"
      ]
     },
     "execution_count": 125,
     "metadata": {},
     "output_type": "execute_result"
    }
   ],
   "source": [
    "# Appeler un élément de cette liste\n",
    "d['liste'][1]"
   ]
  },
  {
   "cell_type": "markdown",
   "metadata": {},
   "source": [
    "Nous pouvons également modifier les valeurs d'une clé. Par exemple :"
   ]
  },
  {
   "cell_type": "code",
   "execution_count": 126,
   "metadata": {
    "collapsed": true
   },
   "outputs": [
    {
     "data": {
      "text/plain": [
       "123"
      ]
     },
     "execution_count": 126,
     "metadata": {},
     "output_type": "execute_result"
    }
   ],
   "source": [
    "d['nombre']"
   ]
  },
  {
   "cell_type": "code",
   "execution_count": 127,
   "metadata": {
    "collapsed": true
   },
   "outputs": [],
   "source": [
    "# Changer la valeur du clé \"nombre\"\n",
    "d['nombre'] = 100"
   ]
  },
  {
   "cell_type": "code",
   "execution_count": 128,
   "metadata": {
    "collapsed": true
   },
   "outputs": [
    {
     "data": {
      "text/plain": [
       "100"
      ]
     },
     "execution_count": 128,
     "metadata": {},
     "output_type": "execute_result"
    }
   ],
   "source": [
    "# Verifier\n",
    "d['nombre']"
   ]
  },
  {
   "cell_type": "markdown",
   "metadata": {},
   "source": [
    "Nous pouvons également créer des clés par affectation. Par exemple, si nous avons commencé avec un dictionnaire vide, nous pourrions continuellement y ajouter des nouveaux valeurs :"
   ]
  },
  {
   "cell_type": "code",
   "execution_count": 129,
   "metadata": {
    "collapsed": true
   },
   "outputs": [],
   "source": [
    "# Créer un nouveau dictionnaire vide\n",
    "d = {}"
   ]
  },
  {
   "cell_type": "code",
   "execution_count": 130,
   "metadata": {
    "collapsed": true
   },
   "outputs": [],
   "source": [
    "# Créer une nouvelle clé par une simple affectation\n",
    "d['langage'] = 'Python'"
   ]
  },
  {
   "cell_type": "code",
   "execution_count": 131,
   "metadata": {
    "collapsed": true
   },
   "outputs": [],
   "source": [
    "# Vous pouvez faire une affectation dont la clé est la valeur sont de n'importe quel type\n",
    "d[1] = 3.6\n",
    "\n",
    "# Utiliser une clé de type chaîne de caractéres est plus approprié"
   ]
  },
  {
   "cell_type": "code",
   "execution_count": 132,
   "metadata": {
    "collapsed": true
   },
   "outputs": [
    {
     "data": {
      "text/plain": [
       "{'langage': 'Python', 1: 3.6}"
      ]
     },
     "execution_count": 132,
     "metadata": {},
     "output_type": "execute_result"
    }
   ],
   "source": [
    "# Afficher\n",
    "d"
   ]
  },
  {
   "cell_type": "markdown",
   "metadata": {},
   "source": [
    "#### Dictionnaires imbriqués\n",
    "\n",
    "Espérons que vous commencez à voir à quel point Python est puissant avec sa flexibilité d'**imbrication** d'objets et d'appel de méthodes sur eux. Voyons voir un dictionnaire imbriqué à l'intérieur d'un dictionnaire :"
   ]
  },
  {
   "cell_type": "code",
   "execution_count": 133,
   "metadata": {
    "collapsed": true
   },
   "outputs": [],
   "source": [
    "# Dictionnaire imbriqué à l'intérieur d'un dictionnaire imbriqué à l'intérieur d'un dictionnaire\n",
    "d = {'cle1':{'cle_inter1':{'cle_inter_inter1':'valeur'}}}"
   ]
  },
  {
   "cell_type": "markdown",
   "metadata": {},
   "source": [
    "Voyons comment nous pouvons récupérer cette valeur :"
   ]
  },
  {
   "cell_type": "code",
   "execution_count": 134,
   "metadata": {
    "collapsed": true
   },
   "outputs": [
    {
     "data": {
      "text/plain": [
       "'valeur'"
      ]
     },
     "execution_count": 134,
     "metadata": {},
     "output_type": "execute_result"
    }
   ],
   "source": [
    "# Continuez d'appeler les clés\n",
    "d['cle1']['cle_inter1']['cle_inter_inter1']"
   ]
  },
  {
   "cell_type": "markdown",
   "metadata": {},
   "source": [
    "#### Quelques méthodes de dictionnaire\n",
    "\n",
    "Il y a quelques méthodes que l'on peut appeler pour un dictionnaire. Faisons une brève présentation de quelques-unes d'entre elles :"
   ]
  },
  {
   "cell_type": "code",
   "execution_count": 135,
   "metadata": {
    "collapsed": true
   },
   "outputs": [],
   "source": [
    "# Créer un dictionnaire typique\n",
    "d = {'cle1':1,'cle2':2,'cle3':3}"
   ]
  },
  {
   "cell_type": "code",
   "execution_count": 136,
   "metadata": {
    "collapsed": true
   },
   "outputs": [
    {
     "data": {
      "text/plain": [
       "dict_keys(['cle1', 'cle2', 'cle3'])"
      ]
     },
     "execution_count": 136,
     "metadata": {},
     "output_type": "execute_result"
    }
   ],
   "source": [
    "# La méthode \"keys()\" retourne un objet de type \"dict_keys\" contient une liste des clés\n",
    "d.keys()"
   ]
  },
  {
   "cell_type": "code",
   "execution_count": 137,
   "metadata": {
    "collapsed": true
   },
   "outputs": [
    {
     "data": {
      "text/plain": [
       "dict_values([1, 2, 3])"
      ]
     },
     "execution_count": 137,
     "metadata": {},
     "output_type": "execute_result"
    }
   ],
   "source": [
    "# La méthode \"values()\" retourne un objet de type \"dict_values\" contient une liste des valeurs\n",
    "d.values()"
   ]
  },
  {
   "cell_type": "code",
   "execution_count": 138,
   "metadata": {
    "collapsed": true
   },
   "outputs": [
    {
     "data": {
      "text/plain": [
       "dict_items([('cle1', 1), ('cle2', 2), ('cle3', 3)])"
      ]
     },
     "execution_count": 138,
     "metadata": {},
     "output_type": "execute_result"
    }
   ],
   "source": [
    "# La méthode \"items()\" retourne un objet de type \"dict_items\" contient une liste des tuples (clé, valeur)\n",
    "d.items()"
   ]
  },
  {
   "cell_type": "markdown",
   "metadata": {},
   "source": [
    "### Ensembles et Booléens\n",
    "\n",
    "Il y a deux autres types d'objets en Python que nous devrions rapidement couvrir. Les ensembles et les booléens. \n",
    "\n",
    "#### Ensembles\n",
    "\n",
    "Les ensembles sont une collection non ordonnée d'éléments **uniques**. Nous pouvons les construire en utilisant la fonction <font color='blue'>**set()**</font>. Allons de l'avant et faisons une ensemble pour voir comment ça marche."
   ]
  },
  {
   "cell_type": "code",
   "execution_count": 139,
   "metadata": {
    "collapsed": true
   },
   "outputs": [],
   "source": [
    "# Créer une ensemble\n",
    "x = set()"
   ]
  },
  {
   "cell_type": "code",
   "execution_count": 140,
   "metadata": {
    "collapsed": true
   },
   "outputs": [],
   "source": [
    "# Ajouter aux ensembles avec la méthode \"add()\"\n",
    "x.add(1)"
   ]
  },
  {
   "cell_type": "code",
   "execution_count": 141,
   "metadata": {
    "collapsed": true
   },
   "outputs": [
    {
     "data": {
      "text/plain": [
       "{1}"
      ]
     },
     "execution_count": 141,
     "metadata": {},
     "output_type": "execute_result"
    }
   ],
   "source": [
    "# Afficher\n",
    "x"
   ]
  },
  {
   "cell_type": "markdown",
   "metadata": {},
   "source": [
    "Notez que les crochets **{}** n'indique pas un dictionnaire.\n",
    "\n",
    "Nous savons qu'un ensemble n'a que des entrées uniques. Que se passe-t-il lorsque nous essayons d'ajouter quelque chose qui se trouve déjà dans un ensemble ?"
   ]
  },
  {
   "cell_type": "code",
   "execution_count": 142,
   "metadata": {
    "collapsed": true
   },
   "outputs": [],
   "source": [
    "# Ajouter le même élément\n",
    "x.add(1)"
   ]
  },
  {
   "cell_type": "code",
   "execution_count": 143,
   "metadata": {
    "collapsed": true
   },
   "outputs": [
    {
     "data": {
      "text/plain": [
       "{1}"
      ]
     },
     "execution_count": 143,
     "metadata": {},
     "output_type": "execute_result"
    }
   ],
   "source": [
    "# Afficher\n",
    "x"
   ]
  },
  {
   "cell_type": "markdown",
   "metadata": {},
   "source": [
    "Remarquez qu'il ne placera pas un autre 1 là. C'est parce qu'un ensemble n'est concerné que par des éléments uniques ! Nous pouvons mouler une liste d'éléments répétitifs multiples dans un ensemble pour obtenir les éléments uniques. Par exemple :"
   ]
  },
  {
   "cell_type": "code",
   "execution_count": 144,
   "metadata": {
    "collapsed": true
   },
   "outputs": [],
   "source": [
    "# Créer une liste avec des répétitions\n",
    "l = [1,1,2,2,3,4,5,6,1,1]"
   ]
  },
  {
   "cell_type": "code",
   "execution_count": 145,
   "metadata": {
    "collapsed": true
   },
   "outputs": [
    {
     "data": {
      "text/plain": [
       "{1, 2, 3, 4, 5, 6}"
      ]
     },
     "execution_count": 145,
     "metadata": {},
     "output_type": "execute_result"
    }
   ],
   "source": [
    "# Transformer une liste à une ensemble pour obtenir les éléments uniques\n",
    "set(l)"
   ]
  },
  {
   "cell_type": "markdown",
   "metadata": {},
   "source": [
    "#### Booléen\n",
    "\n",
    "Python est venu avec le type booléen, qui peut être soit vrai (*True*) ou faux (*False*) (ces deux valeurs ne sont fondamentalement que les entiers 1 et 0). Passons vers quelques exemples rapides des booléens :"
   ]
  },
  {
   "cell_type": "code",
   "execution_count": 146,
   "metadata": {
    "collapsed": true
   },
   "outputs": [],
   "source": [
    "# Définir un objet comme étant un booléen\n",
    "b = True"
   ]
  },
  {
   "cell_type": "code",
   "execution_count": 147,
   "metadata": {},
   "outputs": [
    {
     "data": {
      "text/plain": [
       "True"
      ]
     },
     "execution_count": 147,
     "metadata": {},
     "output_type": "execute_result"
    }
   ],
   "source": [
    "# Afficher\n",
    "b"
   ]
  },
  {
   "cell_type": "markdown",
   "metadata": {},
   "source": [
    "##### Opérateurs relationnels"
   ]
  },
  {
   "cell_type": "markdown",
   "metadata": {},
   "source": [
    "Nous pouvons également utiliser des **opérateurs relationnels** (opérateurs de comparaison) pour créer des booléens. Ces opérateurs nous permettront de comparer des variables et d'obtenir une valeur booléenne (*Vrai* ou *Faux*).\n",
    "\n",
    "Nous présenterons d'abord un tableau des opérateurs de comparaison, puis nous travaillerons sur quelques exemples :\n",
    "\n",
    "<table class=\"table table-bordered\">\n",
    "<tr>\n",
    "<th style=\"width:10%\">Opérateur</th><th style=\"width:45%\">Description</th><th>Exemple</th>\n",
    "</tr>\n",
    "<tr>\n",
    "<td>==</td>\n",
    "<td>Si les valeurs de deux opérandes sont égales, alors la condition devient vraie (*True*)</td>\n",
    "<td>a == b</td>\n",
    "</tr>\n",
    "<tr>\n",
    "<td>!=</td>\n",
    "<td>Si les valeurs de deux opérandes ne sont pas égales, alors la condition devient vraie (*True*)</td>\n",
    "<td>a != b</td>\n",
    "</tr>\n",
    "<tr>\n",
    "<td>&gt;</td>\n",
    "<td>Si la valeur de l'opérande gauche est supérieure à la valeur de l'opérande droite, alors la condition devient vraie (*True*)</td>\n",
    "<td> a &gt; b</td>\n",
    "</tr>\n",
    "<tr>\n",
    "<td>&lt;</td>\n",
    "<td>Si la valeur de l'opérande gauche est inférieure à la valeur de l'opérande droite, alors la condition devient vraie (*True*)</td>\n",
    "<td> a &lt; b</td>\n",
    "</tr>\n",
    "<tr>\n",
    "<td>&gt;=</td>\n",
    "<td>Si la valeur de l'opérande gauche est supérieure ou égale à la valeur de l'opérande droite, alors la condition devient vraie (*True*)</td>\n",
    "<td> a &gt;= b </td>\n",
    "</tr>\n",
    "<tr>\n",
    "<td>&lt;=</td>\n",
    "<td>Si la valeur de l'opérande gauche est inférieure ou égale à la valeur de l'opérande droite, alors la condition devient vraie (*True*)</td>\n",
    "<td> a &lt;= b </td>\n",
    "</tr>\n",
    "</table>"
   ]
  },
  {
   "cell_type": "markdown",
   "metadata": {},
   "source": [
    "Voyons maintenant quelques exemples sur ces opérateurs :"
   ]
  },
  {
   "cell_type": "code",
   "execution_count": 148,
   "metadata": {},
   "outputs": [
    {
     "data": {
      "text/plain": [
       "True"
      ]
     },
     "execution_count": 148,
     "metadata": {},
     "output_type": "execute_result"
    }
   ],
   "source": [
    "# Egalité\n",
    "1 == 1"
   ]
  },
  {
   "cell_type": "markdown",
   "metadata": {},
   "source": [
    "Une erreur courante est d'utiliser un seul signe égal (=) au lieu d'un double signe égal (==). Rappelez-vous que = est un **opérateur d'assignation** et == est un **opérateur relationnels**."
   ]
  },
  {
   "cell_type": "code",
   "execution_count": 149,
   "metadata": {},
   "outputs": [
    {
     "data": {
      "text/plain": [
       "False"
      ]
     },
     "execution_count": 149,
     "metadata": {},
     "output_type": "execute_result"
    }
   ],
   "source": [
    "# Inégalité\n",
    "1 != 1"
   ]
  },
  {
   "cell_type": "code",
   "execution_count": 150,
   "metadata": {},
   "outputs": [
    {
     "data": {
      "text/plain": [
       "False"
      ]
     },
     "execution_count": 150,
     "metadata": {},
     "output_type": "execute_result"
    }
   ],
   "source": [
    "# Supérieur ou égal\n",
    "1 >= 2"
   ]
  },
  {
   "cell_type": "markdown",
   "metadata": {},
   "source": [
    "##### Opérateurs logiques\n",
    "Une caractéristique intéressante de Python est la possibilité de **chaîner** plusieurs comparaisons pour effectuer un test plus complexe. \n",
    "\n",
    "Voyons quelques exemples d'utilisation de chaînes :"
   ]
  },
  {
   "cell_type": "code",
   "execution_count": 151,
   "metadata": {},
   "outputs": [
    {
     "data": {
      "text/plain": [
       "True"
      ]
     },
     "execution_count": 151,
     "metadata": {},
     "output_type": "execute_result"
    }
   ],
   "source": [
    "# Calculons\n",
    "1 < 2 < 3"
   ]
  },
  {
   "cell_type": "markdown",
   "metadata": {},
   "source": [
    "Dans cet exemple nous avons vérifié si 1 était inférieur à 2 **et** si 2 était inférieur à 3. Nous aurions pu écrire ceci en utilisant l'**opérateur logique _and_** en Python :"
   ]
  },
  {
   "cell_type": "code",
   "execution_count": 152,
   "metadata": {},
   "outputs": [
    {
     "data": {
      "text/plain": [
       "True"
      ]
     },
     "execution_count": 152,
     "metadata": {},
     "output_type": "execute_result"
    }
   ],
   "source": [
    "# Calculons\n",
    "1 < 2 and 2 < 3"
   ]
  },
  {
   "cell_type": "code",
   "execution_count": 153,
   "metadata": {},
   "outputs": [
    {
     "data": {
      "text/plain": [
       "False"
      ]
     },
     "execution_count": 153,
     "metadata": {},
     "output_type": "execute_result"
    }
   ],
   "source": [
    "# Calculons\n",
    "1 < 3 > 2 != 2"
   ]
  },
  {
   "cell_type": "code",
   "execution_count": 154,
   "metadata": {},
   "outputs": [
    {
     "data": {
      "text/plain": [
       "False"
      ]
     },
     "execution_count": 154,
     "metadata": {},
     "output_type": "execute_result"
    }
   ],
   "source": [
    "# En utilisant \"and\"\n",
    "1 < 3 and 3 > 2 and 2 != 2"
   ]
  },
  {
   "cell_type": "markdown",
   "metadata": {},
   "source": [
    "Nous pouvons aussi utiliser **or** pour écrire des comparaisons en Python. Par exemple :"
   ]
  },
  {
   "cell_type": "code",
   "execution_count": 155,
   "metadata": {},
   "outputs": [
    {
     "data": {
      "text/plain": [
       "True"
      ]
     },
     "execution_count": 155,
     "metadata": {},
     "output_type": "execute_result"
    }
   ],
   "source": [
    "1 == 2 or 2 > 1"
   ]
  },
  {
   "cell_type": "markdown",
   "metadata": {},
   "source": [
    "Notez que c'était vrai, c'est parce qu'avec l'**opérateur logique _or_**, il suffit que *1 == 2* ou *2 > 1* soit vrai.\n",
    "\n",
    "Finalement il nous reste l'**opérateur logique _not_**. l'opérateur **not** inverse une expression booléenne, donc :"
   ]
  },
  {
   "cell_type": "code",
   "execution_count": 156,
   "metadata": {},
   "outputs": [
    {
     "data": {
      "text/plain": [
       "False"
      ]
     },
     "execution_count": 156,
     "metadata": {},
     "output_type": "execute_result"
    }
   ],
   "source": [
    "not True"
   ]
  },
  {
   "cell_type": "code",
   "execution_count": 157,
   "metadata": {},
   "outputs": [
    {
     "data": {
      "text/plain": [
       "True"
      ]
     },
     "execution_count": 157,
     "metadata": {},
     "output_type": "execute_result"
    }
   ],
   "source": [
    "# Et\n",
    "not False"
   ]
  },
  {
   "cell_type": "code",
   "execution_count": 158,
   "metadata": {},
   "outputs": [
    {
     "data": {
      "text/plain": [
       "True"
      ]
     },
     "execution_count": 158,
     "metadata": {},
     "output_type": "execute_result"
    }
   ],
   "source": [
    "# Reprenons une expression précédente (1 < 3 > 2 != 2), et qui nous a donné False\n",
    "not 1 < 3 > 2 != 2"
   ]
  },
  {
   "cell_type": "markdown",
   "metadata": {},
   "source": [
    "### None"
   ]
  },
  {
   "cell_type": "markdown",
   "metadata": {},
   "source": [
    "*None* est un objet que nous pouvons l'utiliser comme **caractère de remplacement** pour un objet que nous ne voulons pas encore assigner:"
   ]
  },
  {
   "cell_type": "code",
   "execution_count": 159,
   "metadata": {
    "collapsed": true
   },
   "outputs": [],
   "source": [
    "# Utiliser \"None\"\n",
    "b = None"
   ]
  },
  {
   "cell_type": "markdown",
   "metadata": {},
   "source": [
    "### Conversion de type (casting)"
   ]
  },
  {
   "cell_type": "markdown",
   "metadata": {},
   "source": [
    "#### Fonction type()\n",
    "Si vous êtes encore des confusions et vous ne pouvez parfois pas déterminer le type d'une valeur, vous pouvez toujours utiliser la fonction <font color='blue'>**type()**</font> :"
   ]
  },
  {
   "cell_type": "code",
   "execution_count": 160,
   "metadata": {},
   "outputs": [
    {
     "data": {
      "text/plain": [
       "int"
      ]
     },
     "execution_count": 160,
     "metadata": {},
     "output_type": "execute_result"
    }
   ],
   "source": [
    "# Un entier\n",
    "type(8)"
   ]
  },
  {
   "cell_type": "code",
   "execution_count": 161,
   "metadata": {},
   "outputs": [
    {
     "data": {
      "text/plain": [
       "str"
      ]
     },
     "execution_count": 161,
     "metadata": {},
     "output_type": "execute_result"
    }
   ],
   "source": [
    "# Une chaine de caractères\n",
    "type('Bonjour tout le monde')"
   ]
  },
  {
   "cell_type": "markdown",
   "metadata": {},
   "source": [
    "#### Fonctions de conversion de type\n",
    "Python fournit des fonctions qui convertissent les valeurs d'un type à un autre. Par exmple la fonction <font color='blue'>**float()**</font> que nous avons l'utilisé précédemment, prend une valeur et la convertit, si elle le peut, en nombre flottant.\n",
    "Il y a d'autres fonctions de ce genre :\n",
    "<table class=\"table table-bordered\">\n",
    "<tr>\n",
    "<th style=\"width:10%\">Fonction</th><th style=\"width:45%\">Description</th><th>Exemple</th>\n",
    "</tr>\n",
    "<tr>\n",
    "<td>int()</td>\n",
    "<td>Convertit en un nombre entier</td>\n",
    "<td>int(flottant), int(\"entier_chaine\")</td>\n",
    "</tr>\n",
    "\n",
    "<tr>\n",
    "<td>bin()</td>\n",
    "<td>Convertit un nombre entier en binaire préfixée par \"0b\" sous forme d'une chaîne de caractères</td>\n",
    "<td>bin(entier)</td>\n",
    "</tr>\n",
    "\n",
    "<tr>\n",
    "<td>hex()</td>\n",
    "<td>Convertit un entier en hexadécimal sous forme d'une chaîne de caractères</td>\n",
    "<td>hex(entier)</td>\n",
    "</tr>\n",
    "\n",
    "<tr>\n",
    "<td>oct()</td>\n",
    "<td>Convertit un entier en octal sous forme d'une chaîne de caractères</td>\n",
    "<td>oct(entier)</td>\n",
    "</tr>\n",
    "\n",
    "<tr>\n",
    "<td>float()</td>\n",
    "<td>Convertit en un nombre flottant</td>\n",
    "<td>float(entier), float(\"flottant_chaine\")</td>\n",
    "</tr>\n",
    "\n",
    "<tr>\n",
    "<td>str()</td>\n",
    "<td>Convertit en une chaîne de caractères</td>\n",
    "<td>str(entier), str(flottant), str([l,i,s,t,e]) ...</td>\n",
    "</tr>\n",
    "\n",
    "<tr>\n",
    "<td>list()</td>\n",
    "<td>Convertit en une liste</td>\n",
    "<td>list(\"chaine\"), list((t,u,p,l,e)) ...</td>\n",
    "</tr>\n",
    "\n",
    "<tr>\n",
    "<td>tuple()</td>\n",
    "<td>Convertit en un tuple</td>\n",
    "<td>tuple(\"chaine\"), tuple([l,i,s,t,e]) ...</td>\n",
    "</tr>\n",
    "\n",
    "<tr>\n",
    "<td>dict()</td>\n",
    "<td>Convertit en un dictionnaire, l'entrée doit être une séquence de tuples (clé, valeur).</td>\n",
    "<td>dict([(cle1,valeur1),(cle2,valeur2)]) ...</td>\n",
    "</tr>\n",
    "\n",
    "<tr>\n",
    "<td>set()</td>\n",
    "<td>Convertit en une ensmble</td>\n",
    "<td>set(\"chaine\"), set([l,i,s,t,e]) ...</td>\n",
    "</tr>\n",
    "</table>"
   ]
  },
  {
   "cell_type": "markdown",
   "metadata": {},
   "source": [
    "Prenons quelques exemples :"
   ]
  },
  {
   "cell_type": "code",
   "execution_count": 162,
   "metadata": {},
   "outputs": [
    {
     "data": {
      "text/plain": [
       "3"
      ]
     },
     "execution_count": 162,
     "metadata": {},
     "output_type": "execute_result"
    }
   ],
   "source": [
    "# Convertir 3.14 en un entier\n",
    "int(3.14)"
   ]
  },
  {
   "cell_type": "code",
   "execution_count": 163,
   "metadata": {},
   "outputs": [
    {
     "data": {
      "text/plain": [
       "3"
      ]
     },
     "execution_count": 163,
     "metadata": {},
     "output_type": "execute_result"
    }
   ],
   "source": [
    "# Convertir \"3\" en un entier\n",
    "int(\"3\")"
   ]
  },
  {
   "cell_type": "code",
   "execution_count": 164,
   "metadata": {},
   "outputs": [
    {
     "name": "stdout",
     "output_type": "stream",
     "text": [
      "11\n",
      "1011\n",
      "1011\n"
     ]
    }
   ],
   "source": [
    "# Convertir 1011 en un entier en spécifiant la base dans laquelle la chaîne de caractères est.\n",
    "print(int(\"1011\",2))\n",
    "# 1011 est en binaire\n",
    "print(int(\"1011\",10))\n",
    "# 1011 est en décimale\n",
    "print(int(\"0x3f3\",16))\n",
    "# 3f3 est en hexadécimale, 0x est pour indiqué qu'il est de type hexadécimale"
   ]
  },
  {
   "cell_type": "code",
   "execution_count": 165,
   "metadata": {},
   "outputs": [
    {
     "data": {
      "text/plain": [
       "'0x3f3'"
      ]
     },
     "execution_count": 165,
     "metadata": {},
     "output_type": "execute_result"
    }
   ],
   "source": [
    "# Convertir 1011 en hexadécimale, c'est l'opération inverse de celle précédente\n",
    "hex(1011)"
   ]
  },
  {
   "cell_type": "code",
   "execution_count": 166,
   "metadata": {},
   "outputs": [
    {
     "data": {
      "text/plain": [
       "'[1, 2, 3]'"
      ]
     },
     "execution_count": 166,
     "metadata": {},
     "output_type": "execute_result"
    }
   ],
   "source": [
    "# Convertir une liste en une chaîne de caractère\n",
    "str([1,2,3])"
   ]
  },
  {
   "cell_type": "code",
   "execution_count": 167,
   "metadata": {},
   "outputs": [
    {
     "data": {
      "text/plain": [
       "['l', 'i', 's', 't', 'e']"
      ]
     },
     "execution_count": 167,
     "metadata": {},
     "output_type": "execute_result"
    }
   ],
   "source": [
    "# Convertir une chaîne de caractère en une liste\n",
    "list(\"liste\")"
   ]
  },
  {
   "cell_type": "code",
   "execution_count": 168,
   "metadata": {},
   "outputs": [
    {
     "data": {
      "text/plain": [
       "{'langage': 'Python', 'version': 3.6}"
      ]
     },
     "execution_count": 168,
     "metadata": {},
     "output_type": "execute_result"
    }
   ],
   "source": [
    "# Convertir une liste de tuples (clé, valeur) en un dictionnaire\n",
    "dict([('langage','Python'), ('version',3.6)])"
   ]
  },
  {
   "cell_type": "code",
   "execution_count": 169,
   "metadata": {},
   "outputs": [
    {
     "data": {
      "text/plain": [
       "{1}"
      ]
     },
     "execution_count": 169,
     "metadata": {},
     "output_type": "execute_result"
    }
   ],
   "source": [
    "# Convertir un tuple en une ensemble\n",
    "set((1,1,1,1,1))"
   ]
  },
  {
   "cell_type": "markdown",
   "metadata": {},
   "source": [
    "Vous devriez maintenant avoir une compréhension de base des objets Python et des types de structure de données."
   ]
  },
  {
   "cell_type": "markdown",
   "metadata": {},
   "source": [
    "### Parcourir les éléments de liste/tuple/dictionnaire/ensemble\n",
    "Vous voudrez souvent parcourir toutes les entrées pour les types de données composés de plusieurs éléments comme les listes, tuples ..., en effectuant la même tâche avec chaque élément. Par exemple, dans une liste de nombres, vous pouvez vouloir effectuer la même opération statistique sur chaque élément. Lorsque vous voulez effectuer la même action pour chaque élément des types de données mentionnés, vous pouvez utiliser la boucle *for* de Python."
   ]
  },
  {
   "cell_type": "code",
   "execution_count": 171,
   "metadata": {},
   "outputs": [
    {
     "name": "stdout",
     "output_type": "stream",
     "text": [
      "Bonjour Aziz\n",
      "Bonjour Meriem\n",
      "Bonjour Ahmed\n"
     ]
    }
   ],
   "source": [
    "# Parcourir une liste des noms\n",
    "list_noms = [\"Aziz\", \"Meriem\", \"Ahmed\"]\n",
    "for nom in list_noms:\n",
    "    print(f\"Bonjour {nom}\")\n"
   ]
  },
  {
   "cell_type": "code",
   "execution_count": 225,
   "metadata": {},
   "outputs": [
    {
     "name": "stdout",
     "output_type": "stream",
     "text": [
      "Bonjour Aziz\n",
      "Bonjour Meriem\n",
      "Bonjour Ahmed\n"
     ]
    }
   ],
   "source": [
    "# Parcourir un tuple des noms\n",
    "tuple_noms = (\"Aziz\", \"Meriem\", \"Ahmed\")\n",
    "for nom in tuple_noms:\n",
    "    print(f\"Bonjour {nom}\")"
   ]
  },
  {
   "cell_type": "markdown",
   "metadata": {},
   "source": [
    "## Exercises\n",
    "1. Écrivez un programme qui demande à l'utilisateur d'entrer la largeur et la longueur d'une chambre. Une fois ces valeurs lues, votre programme doit calculer et afficher la surface de cette chambre. La longueur et la largeur seront saisies sous forme de nombres à virgule flottante. Incluez les unités dans votre message de demande et de sortie.\n",
    "\n",
    "2. Dans de nombreuses provinces à l'étranger, une petite consigne est ajoutée aux contenants de boissons pour encourager les gens à les recycler. Dans une province, les contenants de boissons d'un litre ou moins sont soumis à une consigne de 0,10\\$ et les contenants de boissons de plus d'un litre sont soumis à une consigne de 0,25\\$. Écrivez un programme qui lit le nombre de contenants de chaque taille auprès de l'utilisateur. Votre programme doit ensuite calculer et afficher le remboursement qui sera reçu pour le retour de ces récipients. Formatez la sortie de manière à ce qu'elle comprenne un signe de dollar et deux chiffres à droite de la virgule décimale.\n",
    "\n",
    "3. Un triangle peut être classé en fonction de la longueur de ses côtés : équilatéral, isocèle ou scalène. Les trois côtés d'un triangle équilatéral ont la même longueur. Un triangle isocèle a deux côtés qui ont la même longueur et un troisième qui a une longueur différente. Si tous les côtés ont des longueurs différentes, le triangle est scalène. Écrivez un programme qui lit les longueurs des trois côtés d'un triangle à partir de l'utilisateur. Affichez ensuite un message indiquant le type du triangle.\n",
    "\n",
    "4. Dans cet exercice, vous allez créer un programme qui calcule la moyenne d'une collection de valeurs entrées par l'utilisateur. L'utilisateur entrera 0 comme valeur limite pour indiquer qu'aucune autre valeur ne sera fournie. Votre programme doit afficher un message d'erreur approprié si la première valeur saisie par l'utilisateur est 0.\n",
    "\n",
    "5. Écrivez un programme qui affiche une table de conversion des températures en degrés Celsius et en degrés Fahrenheit. Le tableau doit inclure des lignes pour toutes les températures comprises entre 0 et 100 degrés Celsius qui sont des multiples de 10 degrés Celsius. Ajoutez les titres appropriés à vos colonnes. La formule de conversion entre les degrés Celsius et les degrés Fahrenheit peut être trouvée sur Internet.\n",
    "\n",
    "6. L'un des premiers exemples connus de cryptage a été utilisé par Jules César. César devait fournir des instructions écrites à ses généraux, mais il ne voulait pas que ses ennemis apprennent ses plans si le message tombait entre leurs mains. Il a donc développé ce que l'on a appelé plus tard le chiffre de César.\n",
    "\n",
    "    Le principe de ce chiffrement est simple (et en tant que tel, il n'offre aucune protection contre les techniques modernes de décryptage). Chaque lettre du message original est décalée de 3 places. Par conséquent, A devient D, B devient E, C devient F, D devient G, etc.\n",
    "\n",
    "    Les trois dernières lettres de l'alphabet sont ramenées au début : X devient A, Y devient B et Z devient C. Les caractères non alphabétiques ne sont pas modifiés par le chiffrement.\n",
    "\n",
    "    Écrivez un programme qui met en œuvre un chiffrement de type César. Permettez à l'utilisateur de fournir le message et la quantité de décalage, puis affichez le message décalé. Assurez-vous que votre programme code les lettres majuscules et minuscules. Votre programme doit également prendre en charge les valeurs de décalage négatives afin qu'il puisse être utilisé à la fois pour coder et décoder des messages.\n",
    "\n",
    "7. Écrivez un programme qui convertit un nombre binaire (base 2) en décimal (base 10). Votre programme doit commencer par lire le nombre binaire de l'utilisateur sous forme de chaîne de caractères. Il doit ensuite calculer le nombre décimal équivalent en traitant chaque chiffre du nombre binaire. Enfin, votre programme doit afficher le nombre décimal équivalent avec un message approprié.\n",
    "\n",
    "8. Écrivez un programme qui convertit un nombre décimal (base 10) en binaire (base 2). Lisez le nombre décimal de l'utilisateur sous la forme d'un nombre entier, puis utilisez l'algorithme de division illustré ci-dessous pour effectuer la conversion. Lorsque l'algorithme est terminé, le résultat contient la représentation binaire du nombre. Affichez le résultat, accompagné d'un message approprié.\n",
    "\n",
    "    ```\n",
    "    Soit le résultat une chaîne de caractères vide\n",
    "    Soit q représentant le nombre à convertir\n",
    "    Répétez:\n",
    "        Fixer r égal au reste lorsque q est divisé par 2\n",
    "        Convertissez r en une chaîne de caractères et ajoutez-la au début du résultat.\n",
    "        Divisez q par 2, en éliminant le reste, et enregistrez le résultat dans q\n",
    "    jusqu'à ce que q soit égal à 0\n",
    "    ```"
   ]
  }
 ],
 "metadata": {
  "anaconda-cloud": {},
  "kernelspec": {
   "display_name": "Python 3",
   "language": "python",
   "name": "python3"
  },
  "language_info": {
   "codemirror_mode": {
    "name": "ipython",
    "version": 3
   },
   "file_extension": ".py",
   "mimetype": "text/x-python",
   "name": "python",
   "nbconvert_exporter": "python",
   "pygments_lexer": "ipython3",
   "version": "3.9.2"
  }
 },
 "nbformat": 4,
 "nbformat_minor": 1
}
